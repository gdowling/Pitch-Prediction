{
 "cells": [
  {
   "cell_type": "code",
   "execution_count": 177,
   "metadata": {},
   "outputs": [],
   "source": [
    "import pandas as pd\n",
    "import os\n",
    "import numpy as np\n",
    "import datetime as dt\n",
    "\n",
    "from sklearn.preprocessing import OneHotEncoder, LabelEncoder\n",
    "from sklearn.model_selection import train_test_split\n",
    "from sklearn.neighbors import KNeighborsClassifier\n",
    "from sklearn.tree import DecisionTreeClassifier\n",
    "from sklearn.ensemble import RandomForestClassifier\n",
    "from sklearn.naive_bayes import BernoulliNB\n",
    "from sklearn.linear_model import LogisticRegression\n",
    "\n",
    "\n",
    "os.chdir('C:/Users/George/Documents/Baseball/2008-2017_pitch_data')"
   ]
  },
  {
   "cell_type": "code",
   "execution_count": 178,
   "metadata": {},
   "outputs": [],
   "source": [
    "rawData = pd.read_csv('baseballdata1517.csv')"
   ]
  },
  {
   "cell_type": "code",
   "execution_count": 179,
   "metadata": {},
   "outputs": [],
   "source": [
    "rawData = rawData.drop(['Unnamed: 0'], axis=1)"
   ]
  },
  {
   "cell_type": "code",
   "execution_count": 181,
   "metadata": {},
   "outputs": [
    {
     "data": {
      "text/plain": [
       "Index(['pitch_type', 'game_date', 'release_speed', 'release_pos_x',\n",
       "       'release_pos_z', 'player_name', 'batter', 'pitcher', 'events',\n",
       "       'description', 'spin_dir', 'spin_rate_deprecated',\n",
       "       'break_angle_deprecated', 'break_length_deprecated', 'zone', 'des',\n",
       "       'game_type', 'stand', 'p_throws', 'home_team', 'away_team', 'type',\n",
       "       'hit_location', 'bb_type', 'balls', 'strikes', 'game_year', 'pfx_x',\n",
       "       'pfx_z', 'plate_x', 'plate_z', 'on_3b', 'on_2b', 'on_1b',\n",
       "       'outs_when_up', 'inning', 'inning_topbot', 'hc_x', 'hc_y',\n",
       "       'tfs_deprecated', 'tfs_zulu_deprecated', 'pos2_person_id', 'umpire',\n",
       "       'sv_id', 'vx0', 'vy0', 'vz0', 'ax', 'ay', 'az', 'sz_top', 'sz_bot',\n",
       "       'hit_distance_sc', 'launch_speed', 'launch_angle', 'effective_speed',\n",
       "       'release_spin_rate', 'release_extension', 'game_pk', 'pos1_person_id',\n",
       "       'pos2_person_id.1', 'pos3_person_id', 'pos4_person_id',\n",
       "       'pos5_person_id', 'pos6_person_id', 'pos7_person_id', 'pos8_person_id',\n",
       "       'pos9_person_id', 'release_pos_y', 'estimated_ba_using_speedangle',\n",
       "       'estimated_woba_using_speedangle', 'woba_value', 'woba_denom',\n",
       "       'babip_value', 'iso_value', 'launch_speed_angle', 'at_bat_number',\n",
       "       'pitch_number', 'barrel'],\n",
       "      dtype='object')"
      ]
     },
     "execution_count": 181,
     "metadata": {},
     "output_type": "execute_result"
    }
   ],
   "source": [
    "rawData.columns"
   ]
  },
  {
   "cell_type": "markdown",
   "metadata": {},
   "source": [
    "## Possible Predictive Varibales and Ideas"
   ]
  },
  {
   "cell_type": "markdown",
   "metadata": {},
   "source": [
    "y = pitch_type\n",
    "\n",
    "__Features in data we know before the pitch that could be predictive:__\n",
    "\n",
    "batter stance (stand), Pitcher throwing arm (p_throws), balls, strikes, runners on 3rd (on_3b), runners on 2nd (on_2b), runners on 1st (on_1b), outs during at-bat (outs_when_up), top or bottom of innings could be good for closers high pressure (inning_topbot),number of pitches thrown in at-bat(pitch_number), number of batters faced in game (at_bat_number)\n",
    "\n",
    "__Possible features to create:__\n",
    "\n",
    "number of pitches thrown in game, Power hitter, speed on base, runners in scoring position, Run differential, Result of last at-bat, Control in game i.e. number of walks in game, strikes to ball ratio in game, last pitch, last pitch ball-strike, trend of last 3 to 5 pitchs i.e strike percentage, trend of last 3 to 5 pitches location i.e. coordinates, average speed of last 3-5 pitches, favorable stance i.e. lefty vs lefty or righty vs righty"
   ]
  },
  {
   "cell_type": "markdown",
   "metadata": {},
   "source": [
    "### Examining Variables for single pitcher"
   ]
  },
  {
   "cell_type": "code",
   "execution_count": 182,
   "metadata": {},
   "outputs": [],
   "source": [
    "KershawData = rawData[rawData['player_name'] == 'Clayton Kershaw'].reset_index(drop=True)"
   ]
  },
  {
   "cell_type": "markdown",
   "metadata": {},
   "source": [
    "I'm going to select key variables for kershaw to see how they relate to one another\n",
    "\n",
    "FURURE TODO run these same test across other pitchers to see if they produce similar results\n"
   ]
  },
  {
   "cell_type": "code",
   "execution_count": 183,
   "metadata": {},
   "outputs": [],
   "source": [
    "KeyVars = ['pitch_type' ,'stand', 'on_3b', 'on_2b', 'on_1b', 'outs_when_up',\n",
    "           'inning', 'inning_topbot', 'pitch_number', 'at_bat_number']\n",
    "\n",
    "KershawDataKeyVars = KershawData[KeyVars]"
   ]
  },
  {
   "cell_type": "code",
   "execution_count": 184,
   "metadata": {},
   "outputs": [
    {
     "name": "stderr",
     "output_type": "stream",
     "text": [
      "C:\\Users\\George\\Anaconda3\\lib\\site-packages\\pandas\\core\\frame.py:3140: SettingWithCopyWarning: \n",
      "A value is trying to be set on a copy of a slice from a DataFrame.\n",
      "Try using .loc[row_indexer,col_indexer] = value instead\n",
      "\n",
      "See the caveats in the documentation: http://pandas.pydata.org/pandas-docs/stable/indexing.html#indexing-view-versus-copy\n",
      "  self[k1] = value[k2]\n"
     ]
    }
   ],
   "source": [
    "KershawDataKeyVars[['on_3b', 'on_2b', 'on_1b']] = KershawDataKeyVars[['on_3b', 'on_2b', 'on_1b']].isna() == False"
   ]
  },
  {
   "cell_type": "code",
   "execution_count": 185,
   "metadata": {},
   "outputs": [
    {
     "data": {
      "text/plain": [
       "array(['CU', 'FF', 'SL', 'CH', 'FT', 'IN', nan], dtype=object)"
      ]
     },
     "execution_count": 185,
     "metadata": {},
     "output_type": "execute_result"
    }
   ],
   "source": [
    "KershawDataKeyVars.pitch_type.unique()"
   ]
  },
  {
   "cell_type": "markdown",
   "metadata": {},
   "source": [
    "TODO Create a rule for IN pitches (Intentional Walk) if new batter prediction normally or if same batter IN again. Rule change shold fix this"
   ]
  },
  {
   "cell_type": "code",
   "execution_count": 186,
   "metadata": {},
   "outputs": [
    {
     "name": "stderr",
     "output_type": "stream",
     "text": [
      "C:\\Users\\George\\Anaconda3\\lib\\site-packages\\pandas\\core\\generic.py:5434: SettingWithCopyWarning: \n",
      "A value is trying to be set on a copy of a slice from a DataFrame\n",
      "\n",
      "See the caveats in the documentation: http://pandas.pydata.org/pandas-docs/stable/indexing.html#indexing-view-versus-copy\n",
      "  self._update_inplace(new_data)\n"
     ]
    }
   ],
   "source": [
    "# Replacing missing pitches with fastballs. Could do something like k-means in the future to be more accurate in imputing\n",
    "KershawDataKeyVars['pitch_type'].fillna('FF', inplace = True)"
   ]
  },
  {
   "cell_type": "markdown",
   "metadata": {},
   "source": [
    "### One hot encoding categorical vars"
   ]
  },
  {
   "cell_type": "code",
   "execution_count": 187,
   "metadata": {},
   "outputs": [],
   "source": [
    "toOneHot = np.array(KershawDataKeyVars[['pitch_type', 'stand', 'inning_topbot']])"
   ]
  },
  {
   "cell_type": "code",
   "execution_count": 188,
   "metadata": {},
   "outputs": [],
   "source": [
    "onehotencoder = OneHotEncoder(sparse=False) \n",
    "oneHotData = onehotencoder.fit_transform(toOneHot)\n",
    "oneHotData = pd.DataFrame(oneHotData, columns=onehotencoder.get_feature_names(['pitch_type', 'stand','inning_topbot']))\n",
    "\n",
    "KeyVars = ['pitch_type', 'on_3b', 'on_2b', 'on_1b', 'outs_when_up',\n",
    "           'inning','pitch_number', 'at_bat_number']\n",
    "\n",
    "KershawDataKeyVars = pd.concat([KershawDataKeyVars[KeyVars], oneHotData], axis=1)"
   ]
  },
  {
   "cell_type": "code",
   "execution_count": 189,
   "metadata": {},
   "outputs": [],
   "source": [
    "# Label encoding Pitch Type so can be fed into models\n",
    "labelencoder = LabelEncoder()\n",
    "PitchTypeEncoded = labelencoder.fit_transform(KershawDataKeyVars['pitch_type'])\n",
    "\n",
    "KershawDataKeyVars['pitch_type_le'] = PitchTypeEncoded"
   ]
  },
  {
   "cell_type": "markdown",
   "metadata": {},
   "source": [
    "## Predicting Pitch Type"
   ]
  },
  {
   "cell_type": "code",
   "execution_count": 116,
   "metadata": {},
   "outputs": [],
   "source": [
    "PredVars = ['on_3b', 'on_2b', 'on_1b', 'outs_when_up', 'inning',\n",
    "       'pitch_number', 'at_bat_number', 'stand_L', 'stand_R', \n",
    "        'inning_topbot_Bot', 'inning_topbot_Top']\n",
    "\n",
    "X = KershawDataKeyVars[PredVars]\n",
    "y = KershawDataKeyVars['pitch_type_le'] \n",
    "\n",
    "X_train, X_test, y_train, y_test = train_test_split(X, y, test_size=0.25, random_state=23)"
   ]
  },
  {
   "cell_type": "markdown",
   "metadata": {},
   "source": [
    "### KNN"
   ]
  },
  {
   "cell_type": "code",
   "execution_count": 251,
   "metadata": {
    "collapsed": true,
    "jupyter": {
     "outputs_hidden": true
    }
   },
   "outputs": [
    {
     "name": "stdout",
     "output_type": "stream",
     "text": [
      "For 3 neighbors the accuracy is 42.6%\n",
      "For 4 neighbors the accuracy is 43.9%\n",
      "For 5 neighbors the accuracy is 45.1%\n",
      "For 6 neighbors the accuracy is 45.3%\n",
      "For 7 neighbors the accuracy is 46.0%\n",
      "For 8 neighbors the accuracy is 45.1%\n",
      "For 9 neighbors the accuracy is 45.5%\n",
      "For 10 neighbors the accuracy is 47.1%\n",
      "For 11 neighbors the accuracy is 47.7%\n",
      "For 12 neighbors the accuracy is 47.7%\n",
      "For 13 neighbors the accuracy is 46.8%\n",
      "For 14 neighbors the accuracy is 47.6%\n",
      "For 15 neighbors the accuracy is 46.6%\n",
      "For 16 neighbors the accuracy is 47.5%\n",
      "For 17 neighbors the accuracy is 47.7%\n",
      "For 18 neighbors the accuracy is 47.2%\n",
      "For 19 neighbors the accuracy is 47.2%\n",
      "For 20 neighbors the accuracy is 47.0%\n",
      "For 21 neighbors the accuracy is 48.0%\n",
      "For 22 neighbors the accuracy is 48.3%\n",
      "For 23 neighbors the accuracy is 48.0%\n",
      "For 24 neighbors the accuracy is 47.7%\n",
      "For 25 neighbors the accuracy is 48.2%\n",
      "For 26 neighbors the accuracy is 48.1%\n",
      "For 27 neighbors the accuracy is 47.5%\n",
      "For 28 neighbors the accuracy is 48.4%\n",
      "For 29 neighbors the accuracy is 48.1%\n",
      "For 30 neighbors the accuracy is 48.9%\n"
     ]
    }
   ],
   "source": [
    "for i in range(3,31):\n",
    "    neigh = KNeighborsClassifier(n_neighbors=i, weights='uniform', n_jobs=-1)\n",
    "    neigh.fit(X_train, y_train)\n",
    "    preds = neigh.predict(X_test)\n",
    "    acc = (preds == y_test).mean()\n",
    "    print('For {} neighbors the accuracy is {}%'.format(i, round(acc*100,1)))\n",
    "    "
   ]
  },
  {
   "cell_type": "code",
   "execution_count": 252,
   "metadata": {},
   "outputs": [
    {
     "name": "stdout",
     "output_type": "stream",
     "text": [
      "For 25 neighbors the accuracy is 48.2%\n"
     ]
    }
   ],
   "source": [
    "#Selected Params\n",
    "neigh = KNeighborsClassifier(n_neighbors=25, weights='uniform', n_jobs=-1)\n",
    "neigh.fit(X_train, y_train)\n",
    "preds = neigh.predict(X_test)\n",
    "acc = (preds == y_test).mean()\n",
    "print('For 25 neighbors the accuracy is {}%'.format(round(acc*100,1)))"
   ]
  },
  {
   "cell_type": "markdown",
   "metadata": {},
   "source": [
    "#### KNN for Kershaw has ~48% accuracy when selecting 25 neighbors and without any feature engineering "
   ]
  },
  {
   "cell_type": "markdown",
   "metadata": {},
   "source": [
    "### Decision Tree"
   ]
  },
  {
   "cell_type": "code",
   "execution_count": 290,
   "metadata": {
    "collapsed": true,
    "jupyter": {
     "outputs_hidden": true
    }
   },
   "outputs": [
    {
     "name": "stdout",
     "output_type": "stream",
     "text": [
      "For 1 max depth the accuracy is 50.2%\n",
      "For 2 max depth the accuracy is 50.2%\n",
      "For 3 max depth the accuracy is 50.5%\n",
      "For 4 max depth the accuracy is 50.4%\n",
      "For 5 max depth the accuracy is 50.4%\n",
      "For 6 max depth the accuracy is 50.4%\n",
      "For 7 max depth the accuracy is 49.6%\n",
      "For 8 max depth the accuracy is 49.5%\n",
      "For 9 max depth the accuracy is 49.5%\n",
      "For 10 max depth the accuracy is 49.5%\n",
      "For 11 max depth the accuracy is 49.5%\n"
     ]
    }
   ],
   "source": [
    "for i in range(1,12):\n",
    "    dt_clf = DecisionTreeClassifier(min_samples_split=15,\n",
    "                                    max_depth=4,\n",
    "                                    max_features = 6,\n",
    "                                    random_state=23)\n",
    "    dt_clf.fit(X_train, y_train)\n",
    "    preds = dt_clf.predict(X_test)\n",
    "    acc = (preds == y_test).mean()\n",
    "    print('For {} max depth the accuracy is {}%'.format(i, round(acc*100,1)))\n",
    "\n"
   ]
  },
  {
   "cell_type": "code",
   "execution_count": 304,
   "metadata": {},
   "outputs": [
    {
     "name": "stdout",
     "output_type": "stream",
     "text": [
      "Accuracy is 49.5%\n"
     ]
    }
   ],
   "source": [
    "dt_clf = DecisionTreeClassifier(min_samples_split=15,\n",
    "                                max_depth=4,\n",
    "                                max_features = 11,\n",
    "                                criterion='gini',\n",
    "                                splitter='best',\n",
    "                                random_state=23)\n",
    "dt_clf.fit(X_train, y_train)\n",
    "preds = dt_clf.predict(X_test)\n",
    "acc = (preds == y_test).mean()\n",
    "print('Accuracy is {}%'.format( round(acc*100,1)))"
   ]
  },
  {
   "cell_type": "markdown",
   "metadata": {},
   "source": [
    "#### Decision Tree for Kershaw has ~50% accuracy with 15 minimum splits, max depth of 4, and gini impurity. No feature engineering"
   ]
  },
  {
   "cell_type": "markdown",
   "metadata": {},
   "source": [
    "### Random Forest"
   ]
  },
  {
   "cell_type": "code",
   "execution_count": 337,
   "metadata": {
    "collapsed": true,
    "jupyter": {
     "outputs_hidden": true
    }
   },
   "outputs": [
    {
     "name": "stdout",
     "output_type": "stream",
     "text": [
      "For 1 min to split the Accuracy is 50.4%\n",
      "For 2 min to split the Accuracy is 50.4%\n",
      "For 3 min to split the Accuracy is 50.4%\n",
      "For 4 min to split the Accuracy is 50.4%\n",
      "For 5 min to split the Accuracy is 50.4%\n",
      "For 6 min to split the Accuracy is 50.4%\n",
      "For 7 min to split the Accuracy is 50.4%\n",
      "For 8 min to split the Accuracy is 50.4%\n",
      "For 9 min to split the Accuracy is 50.4%\n",
      "For 10 min to split the Accuracy is 50.4%\n",
      "For 11 min to split the Accuracy is 50.4%\n"
     ]
    }
   ],
   "source": [
    "for i in range(1, 12, 1):\n",
    "    rf_clf = RandomForestClassifier(n_estimators=100,\n",
    "                                    max_depth=5,\n",
    "                                    min_samples_split = 10,\n",
    "                                    max_features=5,\n",
    "                                    random_state=23,\n",
    "                                    n_jobs=-1)\n",
    "\n",
    "    rf_clf.fit(X_train, y_train)\n",
    "    preds = rf_clf.predict(X_test)\n",
    "    acc = (preds == y_test).mean()\n",
    "    print('For {} min to split the Accuracy is {}%'.format(i, round(acc*100,1)))"
   ]
  },
  {
   "cell_type": "code",
   "execution_count": 51,
   "metadata": {},
   "outputs": [
    {
     "name": "stdout",
     "output_type": "stream",
     "text": [
      "Accuracy is 50.4%\n"
     ]
    }
   ],
   "source": [
    "rf_clf = RandomForestClassifier(n_estimators=100,\n",
    "                                max_depth=5,\n",
    "                                min_samples_split = 10,\n",
    "                                max_features=5,\n",
    "                                random_state=23,\n",
    "                                n_jobs=-1)\n",
    "\n",
    "rf_clf.fit(X_train, y_train)\n",
    "preds = rf_clf.predict(X_test)\n",
    "acc = (preds == y_test).mean()\n",
    "print('Accuracy is {}%'.format(round(acc*100,1)))"
   ]
  },
  {
   "cell_type": "code",
   "execution_count": 60,
   "metadata": {},
   "outputs": [
    {
     "name": "stdout",
     "output_type": "stream",
     "text": [
      "Index(['on_3b', 'on_2b', 'on_1b', 'outs_when_up', 'inning', 'pitch_number',\n",
      "       'at_bat_number', 'stand_L', 'stand_R', 'inning_topbot_Bot',\n",
      "       'inning_topbot_Top'],\n",
      "      dtype='object')\n",
      "[0.0136574  0.02696603 0.01071896 0.04139629 0.06065132 0.59943102\n",
      " 0.15339532 0.04711355 0.03282562 0.00653641 0.00730809]\n"
     ]
    }
   ],
   "source": [
    "print(X_train.columns)\n",
    "print(rf_clf.feature_importances_)"
   ]
  },
  {
   "cell_type": "markdown",
   "metadata": {},
   "source": [
    "At-bat pitch number, overall At-bat number, batter stance is most important"
   ]
  },
  {
   "cell_type": "markdown",
   "metadata": {},
   "source": [
    "#### Random Forest for Kershaw has ~50% accuracy with 100 trees, 10 minimum splits, max depth of 5, and gini impurity. No feature engineering"
   ]
  },
  {
   "cell_type": "markdown",
   "metadata": {},
   "source": [
    "### Naive Bayes"
   ]
  },
  {
   "cell_type": "code",
   "execution_count": 29,
   "metadata": {},
   "outputs": [
    {
     "name": "stdout",
     "output_type": "stream",
     "text": [
      "Accuracy is 50.5%\n"
     ]
    }
   ],
   "source": [
    "nb_clf = BernoulliNB()\n",
    "\n",
    "nb_clf.fit(X_train, y_train)\n",
    "preds = nb_clf.predict(X_test)\n",
    "acc = (preds == y_test).mean()\n",
    "print('Accuracy is {}%'.format(round(acc*100,1)))"
   ]
  },
  {
   "cell_type": "markdown",
   "metadata": {},
   "source": [
    "### Logistic Regression"
   ]
  },
  {
   "cell_type": "code",
   "execution_count": 48,
   "metadata": {},
   "outputs": [
    {
     "name": "stdout",
     "output_type": "stream",
     "text": [
      "Accuracy is 50.1%\n"
     ]
    },
    {
     "name": "stderr",
     "output_type": "stream",
     "text": [
      "C:\\Users\\George\\Anaconda3\\lib\\site-packages\\sklearn\\linear_model\\logistic.py:433: FutureWarning: Default solver will be changed to 'lbfgs' in 0.22. Specify a solver to silence this warning.\n",
      "  FutureWarning)\n",
      "C:\\Users\\George\\Anaconda3\\lib\\site-packages\\sklearn\\linear_model\\logistic.py:460: FutureWarning: Default multi_class will be changed to 'auto' in 0.22. Specify the multi_class option to silence this warning.\n",
      "  \"this warning.\", FutureWarning)\n"
     ]
    }
   ],
   "source": [
    "lr_clf = LogisticRegression(penalty='l2',\n",
    "                            C=1)\n",
    "\n",
    "lr_clf.fit(X_train, y_train)\n",
    "preds = lr_clf.predict(X_test)\n",
    "acc = (preds == y_test).mean()\n",
    "print('Accuracy is {}%'.format(round(acc*100,1)))"
   ]
  },
  {
   "cell_type": "markdown",
   "metadata": {},
   "source": [
    "## Predicting offspeed or fastball"
   ]
  },
  {
   "cell_type": "code",
   "execution_count": 32,
   "metadata": {},
   "outputs": [],
   "source": [
    "Offspeed = ['SL', 'CU', 'CH', 'IN']\n",
    "Fastball = ['FF', 'FT']\n",
    "\n",
    "KershawDataKeyVars['OffspeedFastball'] = KershawDataKeyVars['pitch_type'].replace(Offspeed, 'Offspeed')\n",
    "KershawDataKeyVars['OffspeedFastball'] = KershawDataKeyVars['OffspeedFastball'].replace(Fastball, 'Fastball')"
   ]
  },
  {
   "cell_type": "code",
   "execution_count": 33,
   "metadata": {},
   "outputs": [],
   "source": [
    "# Label encoding Offspeed Fastball so can be fed into models\n",
    "labelencoder2 = LabelEncoder()\n",
    "OffspeedFastballEncoded = labelencoder2.fit_transform(KershawDataKeyVars['OffspeedFastball'])\n",
    "\n",
    "KershawDataKeyVars['OffspeedFastball_le'] = OffspeedFastballEncoded"
   ]
  },
  {
   "cell_type": "code",
   "execution_count": 34,
   "metadata": {},
   "outputs": [],
   "source": [
    "PredVars = ['on_3b', 'on_2b', 'on_1b', 'outs_when_up', 'inning',\n",
    "       'pitch_number', 'at_bat_number', 'stand_L', 'stand_R', \n",
    "        'inning_topbot_Bot', 'inning_topbot_Top']\n",
    "\n",
    "X = KershawDataKeyVars[PredVars]\n",
    "y = KershawDataKeyVars['OffspeedFastball_le'] \n",
    "\n",
    "X_train, X_test, y_train, y_test = train_test_split(X, y, test_size=0.25, random_state=23)"
   ]
  },
  {
   "cell_type": "markdown",
   "metadata": {},
   "source": [
    "### KNN "
   ]
  },
  {
   "cell_type": "code",
   "execution_count": 263,
   "metadata": {
    "collapsed": true,
    "jupyter": {
     "outputs_hidden": true
    }
   },
   "outputs": [
    {
     "name": "stdout",
     "output_type": "stream",
     "text": [
      "For 10 neighbors the accuracy is 54.7%\n",
      "For 11 neighbors the accuracy is 56.5%\n",
      "For 12 neighbors the accuracy is 56.2%\n",
      "For 13 neighbors the accuracy is 56.8%\n",
      "For 14 neighbors the accuracy is 56.6%\n",
      "For 15 neighbors the accuracy is 57.3%\n",
      "For 16 neighbors the accuracy is 56.6%\n",
      "For 17 neighbors the accuracy is 57.3%\n",
      "For 18 neighbors the accuracy is 56.3%\n",
      "For 19 neighbors the accuracy is 56.9%\n",
      "For 20 neighbors the accuracy is 56.4%\n",
      "For 21 neighbors the accuracy is 56.3%\n",
      "For 22 neighbors the accuracy is 56.8%\n",
      "For 23 neighbors the accuracy is 57.3%\n",
      "For 24 neighbors the accuracy is 57.7%\n",
      "For 25 neighbors the accuracy is 58.0%\n",
      "For 26 neighbors the accuracy is 57.8%\n",
      "For 27 neighbors the accuracy is 58.1%\n",
      "For 28 neighbors the accuracy is 57.8%\n",
      "For 29 neighbors the accuracy is 58.4%\n",
      "For 30 neighbors the accuracy is 58.6%\n",
      "For 31 neighbors the accuracy is 59.5%\n",
      "For 32 neighbors the accuracy is 58.2%\n",
      "For 33 neighbors the accuracy is 59.2%\n",
      "For 34 neighbors the accuracy is 58.8%\n",
      "For 35 neighbors the accuracy is 59.0%\n",
      "For 36 neighbors the accuracy is 58.4%\n",
      "For 37 neighbors the accuracy is 59.1%\n",
      "For 38 neighbors the accuracy is 59.1%\n",
      "For 39 neighbors the accuracy is 60.0%\n",
      "For 40 neighbors the accuracy is 59.4%\n",
      "For 41 neighbors the accuracy is 60.1%\n",
      "For 42 neighbors the accuracy is 59.4%\n",
      "For 43 neighbors the accuracy is 59.7%\n",
      "For 44 neighbors the accuracy is 58.8%\n",
      "For 45 neighbors the accuracy is 59.9%\n",
      "For 46 neighbors the accuracy is 59.3%\n",
      "For 47 neighbors the accuracy is 59.8%\n",
      "For 48 neighbors the accuracy is 59.7%\n",
      "For 49 neighbors the accuracy is 59.9%\n",
      "For 50 neighbors the accuracy is 59.0%\n"
     ]
    }
   ],
   "source": [
    "for i in range(10,51):\n",
    "    neigh = KNeighborsClassifier(n_neighbors=i, weights='uniform', n_jobs=-1)\n",
    "    neigh.fit(X_train, y_train)\n",
    "    preds = neigh.predict(X_test)\n",
    "    acc = (preds == y_test).mean()\n",
    "    print('For {} neighbors the accuracy is {}%'.format(i, round(acc*100,1)))\n",
    "    "
   ]
  },
  {
   "cell_type": "code",
   "execution_count": 264,
   "metadata": {},
   "outputs": [
    {
     "name": "stdout",
     "output_type": "stream",
     "text": [
      "For 40 neighbors the accuracy is 59.4%\n"
     ]
    }
   ],
   "source": [
    "#Selected Params\n",
    "neigh = KNeighborsClassifier(n_neighbors=40, weights='uniform', n_jobs=-1)\n",
    "neigh.fit(X_train, y_train)\n",
    "preds = neigh.predict(X_test)\n",
    "acc = (preds == y_test).mean()\n",
    "print('For 40 neighbors the accuracy is {}%'.format(round(acc*100,1)))"
   ]
  },
  {
   "cell_type": "markdown",
   "metadata": {},
   "source": [
    "#### KNN for Kershaw has ~60% accuracy when selecting 40 neighbors and without any feature engineering "
   ]
  },
  {
   "cell_type": "markdown",
   "metadata": {},
   "source": [
    "### Decision Tree"
   ]
  },
  {
   "cell_type": "code",
   "execution_count": 310,
   "metadata": {
    "collapsed": true,
    "jupyter": {
     "outputs_hidden": true
    }
   },
   "outputs": [
    {
     "name": "stdout",
     "output_type": "stream",
     "text": [
      "For 1 min splits the accuracy is 60.6%\n",
      "For 2 min splits the accuracy is 60.6%\n",
      "For 3 min splits the accuracy is 60.6%\n",
      "For 4 min splits the accuracy is 60.6%\n",
      "For 5 min splits the accuracy is 60.6%\n",
      "For 6 min splits the accuracy is 60.6%\n",
      "For 7 min splits the accuracy is 60.6%\n",
      "For 8 min splits the accuracy is 60.6%\n",
      "For 9 min splits the accuracy is 60.6%\n",
      "For 10 min splits the accuracy is 60.6%\n",
      "For 11 min splits the accuracy is 60.6%\n"
     ]
    }
   ],
   "source": [
    "for i in range(1, 12):\n",
    "    dt_clf = DecisionTreeClassifier(min_samples_split=30,\n",
    "                                    max_depth=5,\n",
    "                                    max_features=11,\n",
    "                                    random_state=23)\n",
    "    dt_clf.fit(X_train, y_train)\n",
    "    preds = dt_clf.predict(X_test)\n",
    "    acc = (preds == y_test).mean()\n",
    "    print('For {} min splits the accuracy is {}%'.format(i, round(acc*100,1)))"
   ]
  },
  {
   "cell_type": "code",
   "execution_count": 312,
   "metadata": {},
   "outputs": [
    {
     "name": "stdout",
     "output_type": "stream",
     "text": [
      "The accuracy is 60.6%\n"
     ]
    }
   ],
   "source": [
    "dt_clf = DecisionTreeClassifier(min_samples_split=30,\n",
    "                                max_depth=5,\n",
    "                                max_features=11,\n",
    "                                criterion='gini',\n",
    "                                random_state=23)\n",
    "dt_clf.fit(X_train, y_train)\n",
    "preds = dt_clf.predict(X_test)\n",
    "acc = (preds == y_test).mean()\n",
    "print('The accuracy is {}%'.format(round(acc*100,1)))"
   ]
  },
  {
   "cell_type": "markdown",
   "metadata": {},
   "source": [
    "#### Decision Tree for Kershaw has ~60% accuracy with min split of 30, max depth of 5, with gini impurity.No feature engineering "
   ]
  },
  {
   "cell_type": "markdown",
   "metadata": {},
   "source": [
    "### Random Forest"
   ]
  },
  {
   "cell_type": "code",
   "execution_count": 348,
   "metadata": {
    "collapsed": true,
    "jupyter": {
     "outputs_hidden": true
    }
   },
   "outputs": [
    {
     "name": "stdout",
     "output_type": "stream",
     "text": [
      "For 1 trees the Accuracy is 60.6%\n",
      "For 2 trees the Accuracy is 60.6%\n",
      "For 3 trees the Accuracy is 60.6%\n",
      "For 4 trees the Accuracy is 60.6%\n",
      "For 5 trees the Accuracy is 60.6%\n",
      "For 6 trees the Accuracy is 60.6%\n",
      "For 7 trees the Accuracy is 60.6%\n",
      "For 8 trees the Accuracy is 60.6%\n",
      "For 9 trees the Accuracy is 60.6%\n",
      "For 10 trees the Accuracy is 60.6%\n",
      "For 11 trees the Accuracy is 60.6%\n"
     ]
    }
   ],
   "source": [
    "for i in range(1, 12, 1):\n",
    "    rf_clf = RandomForestClassifier(n_estimators=50,\n",
    "                                    max_depth=5,\n",
    "                                    min_samples_split=14,\n",
    "                                    max_features=7,\n",
    "                                    random_state=23,\n",
    "                                    n_jobs=-1)\n",
    "\n",
    "    rf_clf.fit(X_train, y_train)\n",
    "    preds = rf_clf.predict(X_test)\n",
    "    acc = (preds == y_test).mean()\n",
    "    print('For {} trees the Accuracy is {}%'.format(i, round(acc*100,1)))"
   ]
  },
  {
   "cell_type": "code",
   "execution_count": 349,
   "metadata": {},
   "outputs": [
    {
     "name": "stdout",
     "output_type": "stream",
     "text": [
      "Accuracy is 60.6%\n"
     ]
    }
   ],
   "source": [
    "rf_clf = RandomForestClassifier(n_estimators=50,\n",
    "                                max_depth=5,\n",
    "                                min_samples_split=14,\n",
    "                                max_features=7,\n",
    "                                random_state=23,\n",
    "                                n_jobs=-1)\n",
    "\n",
    "rf_clf.fit(X_train, y_train)\n",
    "preds = rf_clf.predict(X_test)\n",
    "acc = (preds == y_test).mean()\n",
    "print('Accuracy is {}%'.format(round(acc*100,1)))"
   ]
  },
  {
   "cell_type": "markdown",
   "metadata": {},
   "source": [
    "#### Random Forest for Kershaw has ~61% accuracy. No feature engineering "
   ]
  },
  {
   "cell_type": "markdown",
   "metadata": {},
   "source": [
    "### Naive Bayes"
   ]
  },
  {
   "cell_type": "code",
   "execution_count": 35,
   "metadata": {},
   "outputs": [
    {
     "name": "stdout",
     "output_type": "stream",
     "text": [
      "Accuracy is 51.7%\n"
     ]
    }
   ],
   "source": [
    "nb_clf = BernoulliNB()\n",
    "\n",
    "nb_clf.fit(X_train, y_train)\n",
    "preds = nb_clf.predict(X_test)\n",
    "acc = (preds == y_test).mean()\n",
    "print('Accuracy is {}%'.format(round(acc*100,1)))"
   ]
  },
  {
   "cell_type": "markdown",
   "metadata": {},
   "source": [
    "#### Naive Bayes for Kershaw has ~52% accuracy. No feature engineering "
   ]
  },
  {
   "cell_type": "markdown",
   "metadata": {},
   "source": [
    "## Start Creating extra Features"
   ]
  },
  {
   "cell_type": "markdown",
   "metadata": {},
   "source": [
    "#### Will want to remove non-predictive features after "
   ]
  },
  {
   "cell_type": "markdown",
   "metadata": {},
   "source": [
    "#### Features to start with: \n",
    "1) Run differential\n",
    "2) favorable stance"
   ]
  },
  {
   "cell_type": "markdown",
   "metadata": {},
   "source": [
    "##### Tagging games (i.e. appearances)\n",
    "Need to create at-bat ID, matchup index"
   ]
  },
  {
   "cell_type": "code",
   "execution_count": 192,
   "metadata": {},
   "outputs": [],
   "source": [
    "KershawData['game_date_index'] = KershawData['game_date'].apply(lambda a: a.replace('-', ''))\n",
    "KershawData['game_index'] = KershawData['game_date_index'] + '_' + KershawData.away_team + '_' + KershawData.home_team \n",
    "KershawData['pitcher_apperance_index'] = KershawData['game_date_index'] + '_' + KershawData['pitcher'].astype(str)    "
   ]
  },
  {
   "cell_type": "code",
   "execution_count": 193,
   "metadata": {},
   "outputs": [],
   "source": [
    "test = KershawData[KershawData['pitcher_apperance_index'] == '20170613_477132']"
   ]
  },
  {
   "cell_type": "code",
   "execution_count": null,
   "metadata": {},
   "outputs": [],
   "source": [
    "test['at_bat_number'] = (test['at_bat_number'] - test['at_bat_number'].min()) + 1"
   ]
  },
  {
   "cell_type": "code",
   "execution_count": 204,
   "metadata": {},
   "outputs": [],
   "source": [
    "UniqueAppearances = KershawData['pitcher_apperance_index'].unique()"
   ]
  },
  {
   "cell_type": "code",
   "execution_count": 231,
   "metadata": {},
   "outputs": [],
   "source": [
    "testSorted = test.sort_values(['at_bat_number','pitch_number'])\n",
    "testSorted['pitch_count_game'] = np.arange(len(testSorted))"
   ]
  }
 ],
 "metadata": {
  "kernelspec": {
   "display_name": "Python 3",
   "language": "python",
   "name": "python3"
  },
  "language_info": {
   "codemirror_mode": {
    "name": "ipython",
    "version": 3
   },
   "file_extension": ".py",
   "mimetype": "text/x-python",
   "name": "python",
   "nbconvert_exporter": "python",
   "pygments_lexer": "ipython3",
   "version": "3.6.5"
  }
 },
 "nbformat": 4,
 "nbformat_minor": 4
}
