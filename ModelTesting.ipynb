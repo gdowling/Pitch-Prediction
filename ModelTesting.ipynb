{
 "cells": [
  {
   "cell_type": "code",
   "execution_count": 1,
   "metadata": {},
   "outputs": [],
   "source": [
    "import pandas as pd\n",
    "import os\n",
    "import numpy as np\n",
    "import datetime as dt\n",
    "\n",
    "from sklearn.preprocessing import OneHotEncoder, LabelEncoder\n",
    "from sklearn.model_selection import train_test_split\n",
    "from sklearn.neighbors import KNeighborsClassifier\n",
    "from sklearn.tree import DecisionTreeClassifier\n",
    "from sklearn.ensemble import RandomForestClassifier\n",
    "from sklearn.naive_bayes import BernoulliNB\n",
    "from sklearn.linear_model import LogisticRegression\n",
    "\n",
    "\n",
    "os.chdir('C:/Users/George/Documents/Baseball/2008-2017_pitch_data')"
   ]
  },
  {
   "cell_type": "code",
   "execution_count": 2,
   "metadata": {},
   "outputs": [],
   "source": [
    "rawData = pd.read_csv('baseballdata1517.csv')"
   ]
  },
  {
   "cell_type": "code",
   "execution_count": 3,
   "metadata": {},
   "outputs": [],
   "source": [
    "rawData = rawData.drop(['Unnamed: 0'], axis=1)"
   ]
  },
  {
   "cell_type": "code",
   "execution_count": 4,
   "metadata": {},
   "outputs": [
    {
     "data": {
      "text/plain": [
       "Index(['pitch_type', 'game_date', 'release_speed', 'release_pos_x',\n",
       "       'release_pos_z', 'player_name', 'batter', 'pitcher', 'events',\n",
       "       'description', 'spin_dir', 'spin_rate_deprecated',\n",
       "       'break_angle_deprecated', 'break_length_deprecated', 'zone', 'des',\n",
       "       'game_type', 'stand', 'p_throws', 'home_team', 'away_team', 'type',\n",
       "       'hit_location', 'bb_type', 'balls', 'strikes', 'game_year', 'pfx_x',\n",
       "       'pfx_z', 'plate_x', 'plate_z', 'on_3b', 'on_2b', 'on_1b',\n",
       "       'outs_when_up', 'inning', 'inning_topbot', 'hc_x', 'hc_y',\n",
       "       'tfs_deprecated', 'tfs_zulu_deprecated', 'pos2_person_id', 'umpire',\n",
       "       'sv_id', 'vx0', 'vy0', 'vz0', 'ax', 'ay', 'az', 'sz_top', 'sz_bot',\n",
       "       'hit_distance_sc', 'launch_speed', 'launch_angle', 'effective_speed',\n",
       "       'release_spin_rate', 'release_extension', 'game_pk', 'pos1_person_id',\n",
       "       'pos2_person_id.1', 'pos3_person_id', 'pos4_person_id',\n",
       "       'pos5_person_id', 'pos6_person_id', 'pos7_person_id', 'pos8_person_id',\n",
       "       'pos9_person_id', 'release_pos_y', 'estimated_ba_using_speedangle',\n",
       "       'estimated_woba_using_speedangle', 'woba_value', 'woba_denom',\n",
       "       'babip_value', 'iso_value', 'launch_speed_angle', 'at_bat_number',\n",
       "       'pitch_number', 'barrel'],\n",
       "      dtype='object')"
      ]
     },
     "execution_count": 4,
     "metadata": {},
     "output_type": "execute_result"
    }
   ],
   "source": [
    "rawData.columns"
   ]
  },
  {
   "cell_type": "markdown",
   "metadata": {},
   "source": [
    "#### TODO: Get a database a of hitter information that can be called upon to inform what pitcher will do."
   ]
  },
  {
   "cell_type": "markdown",
   "metadata": {},
   "source": [
    "## Possible Predictive Varibales and Ideas"
   ]
  },
  {
   "cell_type": "markdown",
   "metadata": {},
   "source": [
    "y = pitch_type\n",
    "\n",
    "__Features in data we know before the pitch that could be predictive:__\n",
    "\n",
    "batter stance (stand), Pitcher throwing arm (p_throws), balls, strikes, runners on 3rd (on_3b), runners on 2nd (on_2b), runners on 1st (on_1b), outs during at-bat (outs_when_up), top or bottom of innings could be good for closers high pressure (inning_topbot),number of pitches thrown in at-bat(pitch_number), number of batters faced in game (at_bat_number)\n",
    "\n",
    "__Possible features to create:__\n",
    "\n",
    "number of pitches thrown in game, Power hitter, speed on base, runners in scoring position, Run differential, Result of last at-bat, Control in game i.e. number of walks in game, strikes to ball ratio in game, last pitch, last pitch ball-strike, trend of last 3 to 5 pitchs i.e strike percentage, trend of last 3 to 5 pitches location i.e. coordinates, average speed of last 3-5 pitches, favorable stance i.e. lefty vs lefty or righty vs righty, number of hard contect pitches, pitches that are hit hard, percentage pitch has led to a hit, Control for each pitch."
   ]
  },
  {
   "cell_type": "markdown",
   "metadata": {},
   "source": [
    "### Examining Variables for single pitcher"
   ]
  },
  {
   "cell_type": "code",
   "execution_count": 32,
   "metadata": {},
   "outputs": [],
   "source": [
    "KershawData = rawData[rawData['player_name'] == 'Clayton Kershaw'].reset_index(drop=True)"
   ]
  },
  {
   "cell_type": "code",
   "execution_count": 33,
   "metadata": {},
   "outputs": [],
   "source": [
    "KershawData[['on_3b', 'on_2b', 'on_1b']] = KershawData[['on_3b', 'on_2b', 'on_1b']].isna() == False\n",
    "KershawData['pitch_type'].fillna('FF', inplace = True)"
   ]
  },
  {
   "cell_type": "markdown",
   "metadata": {},
   "source": [
    "## One hot encoding categorical vars"
   ]
  },
  {
   "cell_type": "code",
   "execution_count": 34,
   "metadata": {},
   "outputs": [],
   "source": [
    "toOneHot = np.array(KershawData[['pitch_type', 'stand', 'inning_topbot']])\n",
    "\n",
    "onehotencoder = OneHotEncoder(sparse=False) \n",
    "oneHotData = onehotencoder.fit_transform(toOneHot)\n",
    "oneHotData = pd.DataFrame(oneHotData, columns=onehotencoder.get_feature_names(['pitch_type', 'stand','inning_topbot']))\n",
    "\n",
    "KeyVars = ['pitch_type', 'on_3b', 'on_2b', 'on_1b', 'outs_when_up',\n",
    "           'inning','pitch_number', 'at_bat_number']"
   ]
  },
  {
   "cell_type": "code",
   "execution_count": 35,
   "metadata": {},
   "outputs": [],
   "source": [
    "# Label encoding Pitch Type so can be fed into models\n",
    "labelencoder = LabelEncoder()\n",
    "PitchTypeEncoded = labelencoder.fit_transform(KershawData['pitch_type'])\n",
    "\n",
    "KershawData['pitch_type_le'] = PitchTypeEncoded"
   ]
  },
  {
   "cell_type": "code",
   "execution_count": 36,
   "metadata": {},
   "outputs": [],
   "source": [
    "KeyVars = ['pitch_type' ,'stand', 'on_3b', 'on_2b', 'on_1b', 'outs_when_up',\n",
    "           'inning', 'inning_topbot', 'pitch_number', 'at_bat_number']\n",
    "\n",
    "KershawDataKeyVars = KershawData[KeyVars]"
   ]
  },
  {
   "cell_type": "markdown",
   "metadata": {},
   "source": [
    "TODO Create a rule for IN pitches (Intentional Walk) if new batter prediction normally or if same batter IN again. Rule change shold fix this"
   ]
  },
  {
   "cell_type": "markdown",
   "metadata": {},
   "source": [
    "## Predicting Pitch Type"
   ]
  },
  {
   "cell_type": "code",
   "execution_count": 13,
   "metadata": {},
   "outputs": [],
   "source": [
    "PredVars = ['on_3b', 'on_2b', 'on_1b', 'outs_when_up', 'inning',\n",
    "       'pitch_number', 'at_bat_number', 'stand_L', 'stand_R', \n",
    "        'inning_topbot_Bot', 'inning_topbot_Top']\n",
    "\n",
    "X = KershawDataKeyVars[PredVars]\n",
    "y = KershawDataKeyVars['pitch_type_le'] \n",
    "\n",
    "X_train, X_test, y_train, y_test = train_test_split(X, y, test_size=0.25, random_state=23)"
   ]
  },
  {
   "cell_type": "markdown",
   "metadata": {},
   "source": [
    "### KNN"
   ]
  },
  {
   "cell_type": "code",
   "execution_count": 251,
   "metadata": {
    "collapsed": true,
    "jupyter": {
     "outputs_hidden": true
    }
   },
   "outputs": [
    {
     "name": "stdout",
     "output_type": "stream",
     "text": [
      "For 3 neighbors the accuracy is 42.6%\n",
      "For 4 neighbors the accuracy is 43.9%\n",
      "For 5 neighbors the accuracy is 45.1%\n",
      "For 6 neighbors the accuracy is 45.3%\n",
      "For 7 neighbors the accuracy is 46.0%\n",
      "For 8 neighbors the accuracy is 45.1%\n",
      "For 9 neighbors the accuracy is 45.5%\n",
      "For 10 neighbors the accuracy is 47.1%\n",
      "For 11 neighbors the accuracy is 47.7%\n",
      "For 12 neighbors the accuracy is 47.7%\n",
      "For 13 neighbors the accuracy is 46.8%\n",
      "For 14 neighbors the accuracy is 47.6%\n",
      "For 15 neighbors the accuracy is 46.6%\n",
      "For 16 neighbors the accuracy is 47.5%\n",
      "For 17 neighbors the accuracy is 47.7%\n",
      "For 18 neighbors the accuracy is 47.2%\n",
      "For 19 neighbors the accuracy is 47.2%\n",
      "For 20 neighbors the accuracy is 47.0%\n",
      "For 21 neighbors the accuracy is 48.0%\n",
      "For 22 neighbors the accuracy is 48.3%\n",
      "For 23 neighbors the accuracy is 48.0%\n",
      "For 24 neighbors the accuracy is 47.7%\n",
      "For 25 neighbors the accuracy is 48.2%\n",
      "For 26 neighbors the accuracy is 48.1%\n",
      "For 27 neighbors the accuracy is 47.5%\n",
      "For 28 neighbors the accuracy is 48.4%\n",
      "For 29 neighbors the accuracy is 48.1%\n",
      "For 30 neighbors the accuracy is 48.9%\n"
     ]
    }
   ],
   "source": [
    "for i in range(3,31):\n",
    "    neigh = KNeighborsClassifier(n_neighbors=i, weights='uniform', n_jobs=-1)\n",
    "    neigh.fit(X_train, y_train)\n",
    "    preds = neigh.predict(X_test)\n",
    "    acc = (preds == y_test).mean()\n",
    "    print('For {} neighbors the accuracy is {}%'.format(i, round(acc*100,1)))\n",
    "    "
   ]
  },
  {
   "cell_type": "code",
   "execution_count": 252,
   "metadata": {},
   "outputs": [
    {
     "name": "stdout",
     "output_type": "stream",
     "text": [
      "For 25 neighbors the accuracy is 48.2%\n"
     ]
    }
   ],
   "source": [
    "#Selected Params\n",
    "neigh = KNeighborsClassifier(n_neighbors=25, weights='uniform', n_jobs=-1)\n",
    "neigh.fit(X_train, y_train)\n",
    "preds = neigh.predict(X_test)\n",
    "acc = (preds == y_test).mean()\n",
    "print('For 25 neighbors the accuracy is {}%'.format(round(acc*100,1)))"
   ]
  },
  {
   "cell_type": "markdown",
   "metadata": {},
   "source": [
    "#### KNN for Kershaw has ~48% accuracy when selecting 25 neighbors and without any feature engineering "
   ]
  },
  {
   "cell_type": "markdown",
   "metadata": {},
   "source": [
    "### Decision Tree"
   ]
  },
  {
   "cell_type": "code",
   "execution_count": 290,
   "metadata": {
    "collapsed": true,
    "jupyter": {
     "outputs_hidden": true
    }
   },
   "outputs": [
    {
     "name": "stdout",
     "output_type": "stream",
     "text": [
      "For 1 max depth the accuracy is 50.2%\n",
      "For 2 max depth the accuracy is 50.2%\n",
      "For 3 max depth the accuracy is 50.5%\n",
      "For 4 max depth the accuracy is 50.4%\n",
      "For 5 max depth the accuracy is 50.4%\n",
      "For 6 max depth the accuracy is 50.4%\n",
      "For 7 max depth the accuracy is 49.6%\n",
      "For 8 max depth the accuracy is 49.5%\n",
      "For 9 max depth the accuracy is 49.5%\n",
      "For 10 max depth the accuracy is 49.5%\n",
      "For 11 max depth the accuracy is 49.5%\n"
     ]
    }
   ],
   "source": [
    "for i in range(1,12):\n",
    "    dt_clf = DecisionTreeClassifier(min_samples_split=15,\n",
    "                                    max_depth=4,\n",
    "                                    max_features = 6,\n",
    "                                    random_state=23)\n",
    "    dt_clf.fit(X_train, y_train)\n",
    "    preds = dt_clf.predict(X_test)\n",
    "    acc = (preds == y_test).mean()\n",
    "    print('For {} max depth the accuracy is {}%'.format(i, round(acc*100,1)))\n",
    "\n"
   ]
  },
  {
   "cell_type": "code",
   "execution_count": 304,
   "metadata": {},
   "outputs": [
    {
     "name": "stdout",
     "output_type": "stream",
     "text": [
      "Accuracy is 49.5%\n"
     ]
    }
   ],
   "source": [
    "dt_clf = DecisionTreeClassifier(min_samples_split=15,\n",
    "                                max_depth=4,\n",
    "                                max_features = 11,\n",
    "                                criterion='gini',\n",
    "                                splitter='best',\n",
    "                                random_state=23)\n",
    "dt_clf.fit(X_train, y_train)\n",
    "preds = dt_clf.predict(X_test)\n",
    "acc = (preds == y_test).mean()\n",
    "print('Accuracy is {}%'.format( round(acc*100,1)))"
   ]
  },
  {
   "cell_type": "markdown",
   "metadata": {},
   "source": [
    "#### Decision Tree for Kershaw has ~50% accuracy with 15 minimum splits, max depth of 4, and gini impurity. No feature engineering"
   ]
  },
  {
   "cell_type": "markdown",
   "metadata": {},
   "source": [
    "### Random Forest"
   ]
  },
  {
   "cell_type": "code",
   "execution_count": 337,
   "metadata": {
    "collapsed": true,
    "jupyter": {
     "outputs_hidden": true
    }
   },
   "outputs": [
    {
     "name": "stdout",
     "output_type": "stream",
     "text": [
      "For 1 min to split the Accuracy is 50.4%\n",
      "For 2 min to split the Accuracy is 50.4%\n",
      "For 3 min to split the Accuracy is 50.4%\n",
      "For 4 min to split the Accuracy is 50.4%\n",
      "For 5 min to split the Accuracy is 50.4%\n",
      "For 6 min to split the Accuracy is 50.4%\n",
      "For 7 min to split the Accuracy is 50.4%\n",
      "For 8 min to split the Accuracy is 50.4%\n",
      "For 9 min to split the Accuracy is 50.4%\n",
      "For 10 min to split the Accuracy is 50.4%\n",
      "For 11 min to split the Accuracy is 50.4%\n"
     ]
    }
   ],
   "source": [
    "for i in range(1, 12, 1):\n",
    "    rf_clf = RandomForestClassifier(n_estimators=100,\n",
    "                                    max_depth=5,\n",
    "                                    min_samples_split = 10,\n",
    "                                    max_features=5,\n",
    "                                    random_state=23,\n",
    "                                    n_jobs=-1)\n",
    "\n",
    "    rf_clf.fit(X_train, y_train)\n",
    "    preds = rf_clf.predict(X_test)\n",
    "    acc = (preds == y_test).mean()\n",
    "    print('For {} min to split the Accuracy is {}%'.format(i, round(acc*100,1)))"
   ]
  },
  {
   "cell_type": "code",
   "execution_count": 51,
   "metadata": {},
   "outputs": [
    {
     "name": "stdout",
     "output_type": "stream",
     "text": [
      "Accuracy is 50.4%\n"
     ]
    }
   ],
   "source": [
    "rf_clf = RandomForestClassifier(n_estimators=100,\n",
    "                                max_depth=5,\n",
    "                                min_samples_split = 10,\n",
    "                                max_features=5,\n",
    "                                random_state=23,\n",
    "                                n_jobs=-1)\n",
    "\n",
    "rf_clf.fit(X_train, y_train)\n",
    "preds = rf_clf.predict(X_test)\n",
    "acc = (preds == y_test).mean()\n",
    "print('Accuracy is {}%'.format(round(acc*100,1)))"
   ]
  },
  {
   "cell_type": "code",
   "execution_count": 60,
   "metadata": {},
   "outputs": [
    {
     "name": "stdout",
     "output_type": "stream",
     "text": [
      "Index(['on_3b', 'on_2b', 'on_1b', 'outs_when_up', 'inning', 'pitch_number',\n",
      "       'at_bat_number', 'stand_L', 'stand_R', 'inning_topbot_Bot',\n",
      "       'inning_topbot_Top'],\n",
      "      dtype='object')\n",
      "[0.0136574  0.02696603 0.01071896 0.04139629 0.06065132 0.59943102\n",
      " 0.15339532 0.04711355 0.03282562 0.00653641 0.00730809]\n"
     ]
    }
   ],
   "source": [
    "print(X_train.columns)\n",
    "print(rf_clf.feature_importances_)"
   ]
  },
  {
   "cell_type": "markdown",
   "metadata": {},
   "source": [
    "At-bat pitch number, overall At-bat number, batter stance is most important"
   ]
  },
  {
   "cell_type": "markdown",
   "metadata": {},
   "source": [
    "#### Random Forest for Kershaw has ~50% accuracy with 100 trees, 10 minimum splits, max depth of 5, and gini impurity. No feature engineering"
   ]
  },
  {
   "cell_type": "markdown",
   "metadata": {},
   "source": [
    "### Naive Bayes"
   ]
  },
  {
   "cell_type": "code",
   "execution_count": 29,
   "metadata": {},
   "outputs": [
    {
     "name": "stdout",
     "output_type": "stream",
     "text": [
      "Accuracy is 50.5%\n"
     ]
    }
   ],
   "source": [
    "nb_clf = BernoulliNB()\n",
    "\n",
    "nb_clf.fit(X_train, y_train)\n",
    "preds = nb_clf.predict(X_test)\n",
    "acc = (preds == y_test).mean()\n",
    "print('Accuracy is {}%'.format(round(acc*100,1)))"
   ]
  },
  {
   "cell_type": "markdown",
   "metadata": {},
   "source": [
    "### Logistic Regression"
   ]
  },
  {
   "cell_type": "code",
   "execution_count": 48,
   "metadata": {},
   "outputs": [
    {
     "name": "stdout",
     "output_type": "stream",
     "text": [
      "Accuracy is 50.1%\n"
     ]
    },
    {
     "name": "stderr",
     "output_type": "stream",
     "text": [
      "C:\\Users\\George\\Anaconda3\\lib\\site-packages\\sklearn\\linear_model\\logistic.py:433: FutureWarning: Default solver will be changed to 'lbfgs' in 0.22. Specify a solver to silence this warning.\n",
      "  FutureWarning)\n",
      "C:\\Users\\George\\Anaconda3\\lib\\site-packages\\sklearn\\linear_model\\logistic.py:460: FutureWarning: Default multi_class will be changed to 'auto' in 0.22. Specify the multi_class option to silence this warning.\n",
      "  \"this warning.\", FutureWarning)\n"
     ]
    }
   ],
   "source": [
    "lr_clf = LogisticRegression(penalty='l2',\n",
    "                            C=1)\n",
    "\n",
    "lr_clf.fit(X_train, y_train)\n",
    "preds = lr_clf.predict(X_test)\n",
    "acc = (preds == y_test).mean()\n",
    "print('Accuracy is {}%'.format(round(acc*100,1)))"
   ]
  },
  {
   "cell_type": "markdown",
   "metadata": {},
   "source": [
    "## Predicting offspeed or fastball"
   ]
  },
  {
   "cell_type": "code",
   "execution_count": 32,
   "metadata": {},
   "outputs": [],
   "source": [
    "Offspeed = ['SL', 'CU', 'CH', 'IN']\n",
    "Fastball = ['FF', 'FT']\n",
    "\n",
    "KershawDataKeyVars['OffspeedFastball'] = KershawDataKeyVars['pitch_type'].replace(Offspeed, 'Offspeed')\n",
    "KershawDataKeyVars['OffspeedFastball'] = KershawDataKeyVars['OffspeedFastball'].replace(Fastball, 'Fastball')"
   ]
  },
  {
   "cell_type": "code",
   "execution_count": 33,
   "metadata": {},
   "outputs": [],
   "source": [
    "# Label encoding Offspeed Fastball so can be fed into models\n",
    "labelencoder2 = LabelEncoder()\n",
    "OffspeedFastballEncoded = labelencoder2.fit_transform(KershawDataKeyVars['OffspeedFastball'])\n",
    "\n",
    "KershawDataKeyVars['OffspeedFastball_le'] = OffspeedFastballEncoded"
   ]
  },
  {
   "cell_type": "code",
   "execution_count": 34,
   "metadata": {},
   "outputs": [],
   "source": [
    "PredVars = ['on_3b', 'on_2b', 'on_1b', 'outs_when_up', 'inning',\n",
    "       'pitch_number', 'at_bat_number', 'stand_L', 'stand_R', \n",
    "        'inning_topbot_Bot', 'inning_topbot_Top']\n",
    "\n",
    "X = KershawDataKeyVars[PredVars]\n",
    "y = KershawDataKeyVars['OffspeedFastball_le'] \n",
    "\n",
    "X_train, X_test, y_train, y_test = train_test_split(X, y, test_size=0.25, random_state=23)"
   ]
  },
  {
   "cell_type": "markdown",
   "metadata": {},
   "source": [
    "### KNN "
   ]
  },
  {
   "cell_type": "code",
   "execution_count": 263,
   "metadata": {
    "collapsed": true,
    "jupyter": {
     "outputs_hidden": true
    }
   },
   "outputs": [
    {
     "name": "stdout",
     "output_type": "stream",
     "text": [
      "For 10 neighbors the accuracy is 54.7%\n",
      "For 11 neighbors the accuracy is 56.5%\n",
      "For 12 neighbors the accuracy is 56.2%\n",
      "For 13 neighbors the accuracy is 56.8%\n",
      "For 14 neighbors the accuracy is 56.6%\n",
      "For 15 neighbors the accuracy is 57.3%\n",
      "For 16 neighbors the accuracy is 56.6%\n",
      "For 17 neighbors the accuracy is 57.3%\n",
      "For 18 neighbors the accuracy is 56.3%\n",
      "For 19 neighbors the accuracy is 56.9%\n",
      "For 20 neighbors the accuracy is 56.4%\n",
      "For 21 neighbors the accuracy is 56.3%\n",
      "For 22 neighbors the accuracy is 56.8%\n",
      "For 23 neighbors the accuracy is 57.3%\n",
      "For 24 neighbors the accuracy is 57.7%\n",
      "For 25 neighbors the accuracy is 58.0%\n",
      "For 26 neighbors the accuracy is 57.8%\n",
      "For 27 neighbors the accuracy is 58.1%\n",
      "For 28 neighbors the accuracy is 57.8%\n",
      "For 29 neighbors the accuracy is 58.4%\n",
      "For 30 neighbors the accuracy is 58.6%\n",
      "For 31 neighbors the accuracy is 59.5%\n",
      "For 32 neighbors the accuracy is 58.2%\n",
      "For 33 neighbors the accuracy is 59.2%\n",
      "For 34 neighbors the accuracy is 58.8%\n",
      "For 35 neighbors the accuracy is 59.0%\n",
      "For 36 neighbors the accuracy is 58.4%\n",
      "For 37 neighbors the accuracy is 59.1%\n",
      "For 38 neighbors the accuracy is 59.1%\n",
      "For 39 neighbors the accuracy is 60.0%\n",
      "For 40 neighbors the accuracy is 59.4%\n",
      "For 41 neighbors the accuracy is 60.1%\n",
      "For 42 neighbors the accuracy is 59.4%\n",
      "For 43 neighbors the accuracy is 59.7%\n",
      "For 44 neighbors the accuracy is 58.8%\n",
      "For 45 neighbors the accuracy is 59.9%\n",
      "For 46 neighbors the accuracy is 59.3%\n",
      "For 47 neighbors the accuracy is 59.8%\n",
      "For 48 neighbors the accuracy is 59.7%\n",
      "For 49 neighbors the accuracy is 59.9%\n",
      "For 50 neighbors the accuracy is 59.0%\n"
     ]
    }
   ],
   "source": [
    "for i in range(10,51):\n",
    "    neigh = KNeighborsClassifier(n_neighbors=i, weights='uniform', n_jobs=-1)\n",
    "    neigh.fit(X_train, y_train)\n",
    "    preds = neigh.predict(X_test)\n",
    "    acc = (preds == y_test).mean()\n",
    "    print('For {} neighbors the accuracy is {}%'.format(i, round(acc*100,1)))\n",
    "    "
   ]
  },
  {
   "cell_type": "code",
   "execution_count": 264,
   "metadata": {},
   "outputs": [
    {
     "name": "stdout",
     "output_type": "stream",
     "text": [
      "For 40 neighbors the accuracy is 59.4%\n"
     ]
    }
   ],
   "source": [
    "#Selected Params\n",
    "neigh = KNeighborsClassifier(n_neighbors=40, weights='uniform', n_jobs=-1)\n",
    "neigh.fit(X_train, y_train)\n",
    "preds = neigh.predict(X_test)\n",
    "acc = (preds == y_test).mean()\n",
    "print('For 40 neighbors the accuracy is {}%'.format(round(acc*100,1)))"
   ]
  },
  {
   "cell_type": "markdown",
   "metadata": {},
   "source": [
    "#### KNN for Kershaw has ~60% accuracy when selecting 40 neighbors and without any feature engineering "
   ]
  },
  {
   "cell_type": "markdown",
   "metadata": {},
   "source": [
    "### Decision Tree"
   ]
  },
  {
   "cell_type": "code",
   "execution_count": 310,
   "metadata": {
    "collapsed": true,
    "jupyter": {
     "outputs_hidden": true
    }
   },
   "outputs": [
    {
     "name": "stdout",
     "output_type": "stream",
     "text": [
      "For 1 min splits the accuracy is 60.6%\n",
      "For 2 min splits the accuracy is 60.6%\n",
      "For 3 min splits the accuracy is 60.6%\n",
      "For 4 min splits the accuracy is 60.6%\n",
      "For 5 min splits the accuracy is 60.6%\n",
      "For 6 min splits the accuracy is 60.6%\n",
      "For 7 min splits the accuracy is 60.6%\n",
      "For 8 min splits the accuracy is 60.6%\n",
      "For 9 min splits the accuracy is 60.6%\n",
      "For 10 min splits the accuracy is 60.6%\n",
      "For 11 min splits the accuracy is 60.6%\n"
     ]
    }
   ],
   "source": [
    "for i in range(1, 12):\n",
    "    dt_clf = DecisionTreeClassifier(min_samples_split=30,\n",
    "                                    max_depth=5,\n",
    "                                    max_features=11,\n",
    "                                    random_state=23)\n",
    "    dt_clf.fit(X_train, y_train)\n",
    "    preds = dt_clf.predict(X_test)\n",
    "    acc = (preds == y_test).mean()\n",
    "    print('For {} min splits the accuracy is {}%'.format(i, round(acc*100,1)))"
   ]
  },
  {
   "cell_type": "code",
   "execution_count": 312,
   "metadata": {},
   "outputs": [
    {
     "name": "stdout",
     "output_type": "stream",
     "text": [
      "The accuracy is 60.6%\n"
     ]
    }
   ],
   "source": [
    "dt_clf = DecisionTreeClassifier(min_samples_split=30,\n",
    "                                max_depth=5,\n",
    "                                max_features=11,\n",
    "                                criterion='gini',\n",
    "                                random_state=23)\n",
    "dt_clf.fit(X_train, y_train)\n",
    "preds = dt_clf.predict(X_test)\n",
    "acc = (preds == y_test).mean()\n",
    "print('The accuracy is {}%'.format(round(acc*100,1)))"
   ]
  },
  {
   "cell_type": "markdown",
   "metadata": {},
   "source": [
    "#### Decision Tree for Kershaw has ~60% accuracy with min split of 30, max depth of 5, with gini impurity.No feature engineering "
   ]
  },
  {
   "cell_type": "markdown",
   "metadata": {},
   "source": [
    "### Random Forest"
   ]
  },
  {
   "cell_type": "code",
   "execution_count": 348,
   "metadata": {
    "collapsed": true,
    "jupyter": {
     "outputs_hidden": true
    }
   },
   "outputs": [
    {
     "name": "stdout",
     "output_type": "stream",
     "text": [
      "For 1 trees the Accuracy is 60.6%\n",
      "For 2 trees the Accuracy is 60.6%\n",
      "For 3 trees the Accuracy is 60.6%\n",
      "For 4 trees the Accuracy is 60.6%\n",
      "For 5 trees the Accuracy is 60.6%\n",
      "For 6 trees the Accuracy is 60.6%\n",
      "For 7 trees the Accuracy is 60.6%\n",
      "For 8 trees the Accuracy is 60.6%\n",
      "For 9 trees the Accuracy is 60.6%\n",
      "For 10 trees the Accuracy is 60.6%\n",
      "For 11 trees the Accuracy is 60.6%\n"
     ]
    }
   ],
   "source": [
    "for i in range(1, 12, 1):\n",
    "    rf_clf = RandomForestClassifier(n_estimators=50,\n",
    "                                    max_depth=5,\n",
    "                                    min_samples_split=14,\n",
    "                                    max_features=7,\n",
    "                                    random_state=23,\n",
    "                                    n_jobs=-1)\n",
    "\n",
    "    rf_clf.fit(X_train, y_train)\n",
    "    preds = rf_clf.predict(X_test)\n",
    "    acc = (preds == y_test).mean()\n",
    "    print('For {} trees the Accuracy is {}%'.format(i, round(acc*100,1)))"
   ]
  },
  {
   "cell_type": "code",
   "execution_count": 349,
   "metadata": {},
   "outputs": [
    {
     "name": "stdout",
     "output_type": "stream",
     "text": [
      "Accuracy is 60.6%\n"
     ]
    }
   ],
   "source": [
    "rf_clf = RandomForestClassifier(n_estimators=50,\n",
    "                                max_depth=5,\n",
    "                                min_samples_split=14,\n",
    "                                max_features=7,\n",
    "                                random_state=23,\n",
    "                                n_jobs=-1)\n",
    "\n",
    "rf_clf.fit(X_train, y_train)\n",
    "preds = rf_clf.predict(X_test)\n",
    "acc = (preds == y_test).mean()\n",
    "print('Accuracy is {}%'.format(round(acc*100,1)))"
   ]
  },
  {
   "cell_type": "markdown",
   "metadata": {},
   "source": [
    "#### Random Forest for Kershaw has ~61% accuracy. No feature engineering "
   ]
  },
  {
   "cell_type": "markdown",
   "metadata": {},
   "source": [
    "### Naive Bayes"
   ]
  },
  {
   "cell_type": "code",
   "execution_count": 35,
   "metadata": {},
   "outputs": [
    {
     "name": "stdout",
     "output_type": "stream",
     "text": [
      "Accuracy is 51.7%\n"
     ]
    }
   ],
   "source": [
    "nb_clf = BernoulliNB()\n",
    "\n",
    "nb_clf.fit(X_train, y_train)\n",
    "preds = nb_clf.predict(X_test)\n",
    "acc = (preds == y_test).mean()\n",
    "print('Accuracy is {}%'.format(round(acc*100,1)))"
   ]
  },
  {
   "cell_type": "markdown",
   "metadata": {},
   "source": [
    "#### Naive Bayes for Kershaw has ~52% accuracy. No feature engineering "
   ]
  },
  {
   "cell_type": "markdown",
   "metadata": {},
   "source": [
    "## Start Creating extra Features"
   ]
  },
  {
   "cell_type": "markdown",
   "metadata": {},
   "source": [
    "#### Will want to remove non-predictive features after "
   ]
  },
  {
   "cell_type": "markdown",
   "metadata": {},
   "source": [
    "#### Features to start with: \n",
    "\n",
    "1) Pitch Count\n",
    "2) Runners in Scoring Position\n",
    "3) Run differential\n",
    "4) favorable stance"
   ]
  },
  {
   "cell_type": "markdown",
   "metadata": {},
   "source": [
    "##### Tagging games (i.e. appearances)\n",
    "TODO: Create at-bat ID, matchup index"
   ]
  },
  {
   "cell_type": "code",
   "execution_count": 37,
   "metadata": {},
   "outputs": [],
   "source": [
    "KershawData['game_date_index'] = KershawData['game_date'].apply(lambda a: a.replace('-', ''))\n",
    "KershawData['game_index'] = KershawData['game_date_index'] + '_' + KershawData.away_team + '_' + KershawData.home_team \n",
    "KershawData['pitcher_apperance_index'] = KershawData['game_date_index'] + '_' + KershawData['pitcher'].astype(str)    \n",
    "KershawData['atbat_id'] = KershawData['pitcher_apperance_index'] + \"_\" + KershawData['at_bat_number'].astype(str)"
   ]
  },
  {
   "cell_type": "markdown",
   "metadata": {},
   "source": [
    "#### Adjusting At-Bat to start at 1"
   ]
  },
  {
   "cell_type": "code",
   "execution_count": 38,
   "metadata": {},
   "outputs": [],
   "source": [
    "KershawData['at_bat_number'] = (KershawData['at_bat_number'] - KershawData['at_bat_number'].min()) + 1"
   ]
  },
  {
   "cell_type": "markdown",
   "metadata": {},
   "source": [
    "#### Tagging Called Balls"
   ]
  },
  {
   "cell_type": "code",
   "execution_count": 39,
   "metadata": {},
   "outputs": [],
   "source": [
    "KershawData['ball_thrown'] = KershawData['description'] == 'ball'"
   ]
  },
  {
   "cell_type": "markdown",
   "metadata": {},
   "source": [
    "### Calculating Appearance Features\n",
    "#### Creating Pitch Count \n",
    "#### Calculating Control Features: Ball Called, Percent of balls thrown"
   ]
  },
  {
   "cell_type": "code",
   "execution_count": 101,
   "metadata": {},
   "outputs": [],
   "source": [
    "hit_list = ['double', 'single', 'home_run', 'triple']"
   ]
  },
  {
   "cell_type": "code",
   "execution_count": 102,
   "metadata": {},
   "outputs": [],
   "source": [
    "KershawData2 = pd.DataFrame()\n",
    "for i in KershawData['pitcher_apperance_index'].unique():\n",
    "    \n",
    "    #selecing single game\n",
    "    apperance = KershawData[KershawData['pitcher_apperance_index'] == i] \n",
    "    apperance = apperance.sort_values(['at_bat_number','pitch_number']) #sorting at-bats and pitches\n",
    "    \n",
    "    #pitch count\n",
    "    apperance['pitch_count_game'] = np.arange(len(apperance)) \n",
    "    \n",
    "    #Percent balls thrown\n",
    "    apperance['percent_balls_throw'] = apperance['ball_thrown'].expanding().mean().shift(1).fillna(0)\n",
    "    \n",
    "    #Number of walks\n",
    "    apperance['number_of_walks'] = (apperance['events'] == 'walk').cumsum().shift(1).fillna(0)\n",
    "    \n",
    "    #Number of hits\n",
    "    apperance['number_of_hits'] = apperance['events'].isin(hit_list).cumsum().shift(1).fillna(0)\n",
    "    \n",
    "    KershawData2 = KershawData2.append(apperance)"
   ]
  },
  {
   "cell_type": "code",
   "execution_count": 117,
   "metadata": {},
   "outputs": [],
   "source": [
    "KershawData3 = pd.DataFrame()\n",
    "for i in KershawData2['atbat_id'].unique():\n",
    "    atbat = KershawData2[KershawData2['atbat_id'] == i]\n",
    "    atbat = atbat.sort_values('pitch_number')\n",
    "\n",
    "    \n",
    "    atbat['last_pitch'] = atbat['pitch_type'].shift(1).fillna('NewAB')\n",
    "\n",
    "    atbat[['last_plate_x', 'last_plate_z']] = atbat[['plate_x', 'plate_z']].shift(1)\n",
    "    atbat[['last_2_plate_x', 'last_2_plate_z']] = atbat[['plate_x', 'plate_z']].shift(1).rolling(2).mean()\n",
    "    \n",
    "    atbat['last_pitch_speed'] = atbat['effective_speed'].shift(1)\n",
    "    atbat['last_2_pitch_speed'] = atbat['effective_speed'].shift(1).rolling(2).mean()\n",
    "    \n",
    "    KershawData3 = KershawData3.append(atbat)    "
   ]
  },
  {
   "cell_type": "code",
   "execution_count": 118,
   "metadata": {},
   "outputs": [],
   "source": [
    "KershawData3 = KershawData3.reset_index(drop=True)"
   ]
  },
  {
   "cell_type": "code",
   "execution_count": 119,
   "metadata": {},
   "outputs": [],
   "source": [
    "KershawData3[['last_plate_x', 'last_plate_z', 'last_2_plate_x','last_2_plate_z', 'last_pitch_speed']] = KershawData3[['last_plate_x', 'last_plate_z', 'last_2_plate_x', \n",
    "              'last_2_plate_z', 'last_pitch_speed']].fillna(KershawData3[['last_plate_x', 'last_plate_z',\n",
    "                                                                          'last_2_plate_x', 'last_2_plate_z', \n",
    "                                                                          'last_pitch_speed']].mean())"
   ]
  },
  {
   "cell_type": "code",
   "execution_count": 120,
   "metadata": {},
   "outputs": [],
   "source": [
    "KershawData3['last_2_pitch_speed'] = KershawData3['last_2_pitch_speed'].fillna(KershawData3['last_pitch_speed'])"
   ]
  },
  {
   "cell_type": "markdown",
   "metadata": {},
   "source": [
    "#### Creating runners in scoring position, bases loaded, man on"
   ]
  },
  {
   "cell_type": "code",
   "execution_count": 121,
   "metadata": {},
   "outputs": [],
   "source": [
    "conditions = [\n",
    "    (KershawData3['on_1b'] == True) & (KershawData3['on_2b'] == True) & (KershawData3['on_3b'] == True),\n",
    "    (KershawData3['on_2b'] == True) | (KershawData3['on_3b'] == True),\n",
    "    (KershawData3['on_1b'] == True)\n",
    "]\n",
    "\n",
    "status = ['BL', 'RISP', '1B']\n",
    "\n",
    "KershawData3['Runners_On'] = np.select(conditions, status, default='BasesEmpty')"
   ]
  },
  {
   "cell_type": "markdown",
   "metadata": {},
   "source": [
    "#### Creating Favorable Pitcher Matchup"
   ]
  },
  {
   "cell_type": "code",
   "execution_count": 122,
   "metadata": {},
   "outputs": [],
   "source": [
    "KershawData3['Fav_Pitcher_Matchup'] = KershawData3['p_throws'] == KershawData3['stand']"
   ]
  },
  {
   "cell_type": "code",
   "execution_count": 123,
   "metadata": {},
   "outputs": [],
   "source": [
    "# Label encoding Pitch Type so can be fed into models\n",
    "labelencoder2 = LabelEncoder()\n",
    "LastPitchEncoded = labelencoder2.fit_transform(KershawData3['last_pitch'])\n",
    "\n",
    "KershawData3['last_pitch_le'] = LastPitchEncoded"
   ]
  },
  {
   "cell_type": "code",
   "execution_count": 129,
   "metadata": {},
   "outputs": [],
   "source": [
    "toOneHot2 = np.array(KershawData3['Runners_On'])\n",
    "toOneHot2 = toOneHot2.reshape(-1,1)\n",
    "onehotencoder2 = OneHotEncoder(sparse=False) \n",
    "oneHotData2 = onehotencoder2.fit_transform(toOneHot2)\n",
    "oneHotData2 = pd.DataFrame(oneHotData2, columns=onehotencoder2.get_feature_names(['Runners_On']))\n",
    "\n",
    "KershawData3 = pd.concat([KershawData3, oneHotData2], axis=1)"
   ]
  },
  {
   "cell_type": "code",
   "execution_count": 187,
   "metadata": {},
   "outputs": [],
   "source": [
    "PredVars = ['outs_when_up','pitch_number',\n",
    "       'pitch_count_game', 'last_pitch_le', 'last_plate_x', 'last_plate_z',\n",
    "       'last_2_plate_x', 'last_2_plate_z', 'last_pitch_speed',\n",
    "       'last_2_pitch_speed', 'Runners_On_BL', 'Runners_On_RISP', 'Fav_Pitcher_Matchup']\n",
    "\n",
    "X = KershawData3[PredVars]\n",
    "y = KershawData3['pitch_type_le'] \n",
    "\n",
    "X_train, X_test, y_train, y_test = train_test_split(X, y, test_size=0.25, random_state=23)"
   ]
  },
  {
   "cell_type": "markdown",
   "metadata": {},
   "source": [
    "## Decision Tree"
   ]
  },
  {
   "cell_type": "code",
   "execution_count": 188,
   "metadata": {},
   "outputs": [
    {
     "name": "stdout",
     "output_type": "stream",
     "text": [
      "For 2 max depth the accuracy is 52.3%\n",
      "For 3 max depth the accuracy is 52.9%\n",
      "For 4 max depth the accuracy is 51.8%\n",
      "For 5 max depth the accuracy is 53.3%\n",
      "For 6 max depth the accuracy is 52.3%\n",
      "For 7 max depth the accuracy is 52.1%\n",
      "For 8 max depth the accuracy is 53.1%\n",
      "For 9 max depth the accuracy is 53.2%\n",
      "For 10 max depth the accuracy is 53.6%\n",
      "For 11 max depth the accuracy is 52.9%\n",
      "For 12 max depth the accuracy is 52.8%\n",
      "For 13 max depth the accuracy is 52.8%\n"
     ]
    }
   ],
   "source": [
    "for i in range(2,14):\n",
    "    dt_clf = DecisionTreeClassifier(min_samples_split=10,\n",
    "                                    max_depth=5,\n",
    "                                    max_features = i,\n",
    "                                    random_state=23)\n",
    "    dt_clf.fit(X_train, y_train)\n",
    "    preds = dt_clf.predict(X_test)\n",
    "    acc = (preds == y_test).mean()\n",
    "    print('For {} max depth the accuracy is {}%'.format(i, round(acc*100,1)))"
   ]
  },
  {
   "cell_type": "code",
   "execution_count": 236,
   "metadata": {},
   "outputs": [
    {
     "data": {
      "text/html": [
       "<div>\n",
       "<style scoped>\n",
       "    .dataframe tbody tr th:only-of-type {\n",
       "        vertical-align: middle;\n",
       "    }\n",
       "\n",
       "    .dataframe tbody tr th {\n",
       "        vertical-align: top;\n",
       "    }\n",
       "\n",
       "    .dataframe thead th {\n",
       "        text-align: right;\n",
       "    }\n",
       "</style>\n",
       "<table border=\"1\" class=\"dataframe\">\n",
       "  <thead>\n",
       "    <tr style=\"text-align: right;\">\n",
       "      <th></th>\n",
       "      <th>outs_when_up</th>\n",
       "      <th>pitch_number</th>\n",
       "      <th>pitch_count_game</th>\n",
       "      <th>last_pitch_le</th>\n",
       "      <th>last_plate_x</th>\n",
       "      <th>last_plate_z</th>\n",
       "      <th>last_2_plate_x</th>\n",
       "      <th>last_2_plate_z</th>\n",
       "      <th>last_pitch_speed</th>\n",
       "      <th>last_2_pitch_speed</th>\n",
       "      <th>Runners_On_BL</th>\n",
       "      <th>Runners_On_RISP</th>\n",
       "      <th>Fav_Pitcher_Matchup</th>\n",
       "    </tr>\n",
       "  </thead>\n",
       "  <tbody>\n",
       "    <tr>\n",
       "      <th>3018</th>\n",
       "      <td>2</td>\n",
       "      <td>5</td>\n",
       "      <td>70</td>\n",
       "      <td>6</td>\n",
       "      <td>-0.039</td>\n",
       "      <td>0.6</td>\n",
       "      <td>-0.08</td>\n",
       "      <td>1.552</td>\n",
       "      <td>90.228</td>\n",
       "      <td>92.926</td>\n",
       "      <td>0.0</td>\n",
       "      <td>0.0</td>\n",
       "      <td>False</td>\n",
       "    </tr>\n",
       "  </tbody>\n",
       "</table>\n",
       "</div>"
      ],
      "text/plain": [
       "      outs_when_up  pitch_number  pitch_count_game  last_pitch_le  \\\n",
       "3018             2             5                70              6   \n",
       "\n",
       "      last_plate_x  last_plate_z  last_2_plate_x  last_2_plate_z  \\\n",
       "3018        -0.039           0.6           -0.08           1.552   \n",
       "\n",
       "      last_pitch_speed  last_2_pitch_speed  Runners_On_BL  Runners_On_RISP  \\\n",
       "3018            90.228              92.926            0.0              0.0   \n",
       "\n",
       "      Fav_Pitcher_Matchup  \n",
       "3018                False  "
      ]
     },
     "execution_count": 236,
     "metadata": {},
     "output_type": "execute_result"
    }
   ],
   "source": [
    "X_test.iloc[4:5]"
   ]
  },
  {
   "cell_type": "code",
   "execution_count": 235,
   "metadata": {},
   "outputs": [
    {
     "data": {
      "text/plain": [
       "array([[0.01067961, 0.2684466 , 0.38883495, 0.00631068, 0.        ,\n",
       "        0.32572816]])"
      ]
     },
     "execution_count": 235,
     "metadata": {},
     "output_type": "execute_result"
    }
   ],
   "source": [
    "dt_clf.predict_proba(X_test.iloc[4:5])"
   ]
  },
  {
   "cell_type": "code",
   "execution_count": 234,
   "metadata": {},
   "outputs": [
    {
     "data": {
      "text/plain": [
       "3018    5\n",
       "Name: pitch_type_le, dtype: int32"
      ]
     },
     "execution_count": 234,
     "metadata": {},
     "output_type": "execute_result"
    }
   ],
   "source": [
    "y_test.iloc[4:5]"
   ]
  },
  {
   "cell_type": "code",
   "execution_count": 239,
   "metadata": {},
   "outputs": [
    {
     "data": {
      "text/plain": [
       "array([0.02261311, 0.46817253, 0.13639844, 0.05046373, 0.09754318,\n",
       "       0.02840029, 0.04205366, 0.03094336, 0.00696921, 0.        ,\n",
       "       0.00214363, 0.02929789, 0.08500095])"
      ]
     },
     "execution_count": 239,
     "metadata": {},
     "output_type": "execute_result"
    }
   ],
   "source": [
    "dt_clf.feature_importances_"
   ]
  },
  {
   "cell_type": "markdown",
   "metadata": {},
   "source": [
    "## KNN"
   ]
  },
  {
   "cell_type": "code",
   "execution_count": 198,
   "metadata": {},
   "outputs": [
    {
     "name": "stdout",
     "output_type": "stream",
     "text": [
      "For 10 neighbors the accuracy is 48.5%\n",
      "For 11 neighbors the accuracy is 49.8%\n",
      "For 12 neighbors the accuracy is 49.9%\n",
      "For 13 neighbors the accuracy is 50.3%\n",
      "For 14 neighbors the accuracy is 50.2%\n",
      "For 15 neighbors the accuracy is 50.2%\n",
      "For 16 neighbors the accuracy is 50.6%\n",
      "For 17 neighbors the accuracy is 50.8%\n",
      "For 18 neighbors the accuracy is 50.2%\n",
      "For 19 neighbors the accuracy is 50.9%\n",
      "For 20 neighbors the accuracy is 50.5%\n",
      "For 21 neighbors the accuracy is 50.5%\n",
      "For 22 neighbors the accuracy is 51.3%\n",
      "For 23 neighbors the accuracy is 51.0%\n",
      "For 24 neighbors the accuracy is 52.1%\n",
      "For 25 neighbors the accuracy is 51.9%\n",
      "For 26 neighbors the accuracy is 51.4%\n",
      "For 27 neighbors the accuracy is 51.9%\n",
      "For 28 neighbors the accuracy is 52.1%\n",
      "For 29 neighbors the accuracy is 52.5%\n",
      "For 30 neighbors the accuracy is 52.4%\n",
      "For 31 neighbors the accuracy is 52.2%\n",
      "For 32 neighbors the accuracy is 51.8%\n",
      "For 33 neighbors the accuracy is 52.2%\n",
      "For 34 neighbors the accuracy is 52.8%\n"
     ]
    }
   ],
   "source": [
    "for i in range(10,35):\n",
    "    neigh = KNeighborsClassifier(n_neighbors=i, weights='uniform', n_jobs=-1)\n",
    "    neigh.fit(X_train, y_train)\n",
    "    preds = neigh.predict(X_test)\n",
    "    acc = (preds == y_test).mean()\n",
    "    print('For {} neighbors the accuracy is {}%'.format(i, round(acc*100,1)))"
   ]
  }
 ],
 "metadata": {
  "kernelspec": {
   "display_name": "Python 3",
   "language": "python",
   "name": "python3"
  },
  "language_info": {
   "codemirror_mode": {
    "name": "ipython",
    "version": 3
   },
   "file_extension": ".py",
   "mimetype": "text/x-python",
   "name": "python",
   "nbconvert_exporter": "python",
   "pygments_lexer": "ipython3",
   "version": "3.6.5"
  }
 },
 "nbformat": 4,
 "nbformat_minor": 4
}
