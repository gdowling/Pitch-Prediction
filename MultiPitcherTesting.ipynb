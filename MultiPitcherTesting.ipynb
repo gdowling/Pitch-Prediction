{
 "cells": [
  {
   "cell_type": "code",
   "execution_count": 1,
   "metadata": {},
   "outputs": [],
   "source": [
    "import pandas as pd\n",
    "import os \n",
    "import numpy as np\n",
    "from collections import Counter\n",
    "\n",
    "from sklearn.preprocessing import OneHotEncoder, LabelEncoder\n",
    "from sklearn.model_selection import train_test_split\n",
    "from sklearn.neighbors import KNeighborsClassifier\n",
    "from sklearn.tree import DecisionTreeClassifier\n",
    "from sklearn.ensemble import RandomForestClassifier\n",
    "from sklearn.svm import SVC\n",
    "\n",
    "\n",
    "from imblearn.over_sampling import RandomOverSampler\n",
    "from imblearn.pipeline import make_pipeline\n",
    "from imblearn.metrics import classification_report_imbalanced\n",
    "\n",
    "os.chdir('C:/Users/George/Documents/Baseball/2008-2017_pitch_data')"
   ]
  },
  {
   "cell_type": "code",
   "execution_count": 2,
   "metadata": {},
   "outputs": [],
   "source": [
    "rawData = pd.read_csv('baseballdata1517.csv')\n",
    "rawData = rawData.drop(['Unnamed: 0'], axis=1)"
   ]
  },
  {
   "cell_type": "code",
   "execution_count": 263,
   "metadata": {},
   "outputs": [],
   "source": [
    "randomPitchers = list(pd.Series(rawData['pitcher'].unique()).sample(10))"
   ]
  },
  {
   "cell_type": "code",
   "execution_count": 264,
   "metadata": {},
   "outputs": [],
   "source": [
    "data = rawData[rawData['pitcher'].isin(randomPitchers)]"
   ]
  },
  {
   "cell_type": "code",
   "execution_count": 265,
   "metadata": {},
   "outputs": [
    {
     "data": {
      "text/plain": [
       "array(['Neal Cotts', 'Kevin Jepsen', 'Samuel Deduno',\n",
       "       'Odrisamer Despaigne', 'Liam Hendriks', 'Rafael Martin',\n",
       "       'Taylor Jungmann', 'Rich Hill', 'Kelvin Marte', 'Daniel Descalso'],\n",
       "      dtype=object)"
      ]
     },
     "execution_count": 265,
     "metadata": {},
     "output_type": "execute_result"
    }
   ],
   "source": [
    "data.player_name.unique()"
   ]
  },
  {
   "cell_type": "code",
   "execution_count": 266,
   "metadata": {},
   "outputs": [
    {
     "name": "stderr",
     "output_type": "stream",
     "text": [
      "C:\\Users\\George\\Anaconda3\\lib\\site-packages\\pandas\\core\\frame.py:3140: SettingWithCopyWarning: \n",
      "A value is trying to be set on a copy of a slice from a DataFrame.\n",
      "Try using .loc[row_indexer,col_indexer] = value instead\n",
      "\n",
      "See the caveats in the documentation: http://pandas.pydata.org/pandas-docs/stable/indexing.html#indexing-view-versus-copy\n",
      "  self[k1] = value[k2]\n"
     ]
    }
   ],
   "source": [
    "#Binary on base not on a base\n",
    "data[['on_3b', 'on_2b', 'on_1b']] = data[['on_3b', 'on_2b', 'on_1b']].isna() == False"
   ]
  },
  {
   "cell_type": "code",
   "execution_count": 267,
   "metadata": {},
   "outputs": [
    {
     "name": "stderr",
     "output_type": "stream",
     "text": [
      "C:\\Users\\George\\Anaconda3\\lib\\site-packages\\ipykernel_launcher.py:2: SettingWithCopyWarning: \n",
      "A value is trying to be set on a copy of a slice from a DataFrame.\n",
      "Try using .loc[row_indexer,col_indexer] = value instead\n",
      "\n",
      "See the caveats in the documentation: http://pandas.pydata.org/pandas-docs/stable/indexing.html#indexing-view-versus-copy\n",
      "  \n",
      "C:\\Users\\George\\Anaconda3\\lib\\site-packages\\ipykernel_launcher.py:3: SettingWithCopyWarning: \n",
      "A value is trying to be set on a copy of a slice from a DataFrame.\n",
      "Try using .loc[row_indexer,col_indexer] = value instead\n",
      "\n",
      "See the caveats in the documentation: http://pandas.pydata.org/pandas-docs/stable/indexing.html#indexing-view-versus-copy\n",
      "  This is separate from the ipykernel package so we can avoid doing imports until\n",
      "C:\\Users\\George\\Anaconda3\\lib\\site-packages\\ipykernel_launcher.py:4: SettingWithCopyWarning: \n",
      "A value is trying to be set on a copy of a slice from a DataFrame.\n",
      "Try using .loc[row_indexer,col_indexer] = value instead\n",
      "\n",
      "See the caveats in the documentation: http://pandas.pydata.org/pandas-docs/stable/indexing.html#indexing-view-versus-copy\n",
      "  after removing the cwd from sys.path.\n",
      "C:\\Users\\George\\Anaconda3\\lib\\site-packages\\ipykernel_launcher.py:5: SettingWithCopyWarning: \n",
      "A value is trying to be set on a copy of a slice from a DataFrame.\n",
      "Try using .loc[row_indexer,col_indexer] = value instead\n",
      "\n",
      "See the caveats in the documentation: http://pandas.pydata.org/pandas-docs/stable/indexing.html#indexing-view-versus-copy\n",
      "  \"\"\"\n"
     ]
    }
   ],
   "source": [
    "#adding indices \n",
    "data['game_date_index'] = data['game_date'].apply(lambda a: a.replace('-', ''))\n",
    "data['game_index'] = data['game_date_index'] + '_' + data.away_team + '_' + data.home_team \n",
    "data['pitcher_apperance_index'] = data['game_date_index'] + '_' + data['pitcher'].astype(str)    \n",
    "data['atbat_id'] = data['pitcher_apperance_index'] + \"_\" + data['at_bat_number'].astype(str)"
   ]
  },
  {
   "cell_type": "code",
   "execution_count": 268,
   "metadata": {},
   "outputs": [],
   "source": [
    "hit_list = ['double', 'single', 'home_run', 'triple']\n",
    "data2 = pd.DataFrame()\n",
    "for i in data['pitcher_apperance_index'].unique():\n",
    "    \n",
    "    #selecing single game\n",
    "    apperance = data[data['pitcher_apperance_index'] == i] \n",
    "    apperance = apperance.sort_values(['at_bat_number','pitch_number']) #sorting at-bats and pitches\n",
    "    \n",
    "    #pitch count\n",
    "    apperance['pitch_count_game'] = np.arange(len(apperance)) \n",
    "    \n",
    "    #Number of walks\n",
    "    apperance['number_of_walks'] = (apperance['events'] == 'walk').cumsum().shift(1).fillna(0)\n",
    "    \n",
    "    #Number of hits\n",
    "    apperance['number_of_hits'] = apperance['events'].isin(hit_list).cumsum().shift(1).fillna(0)\n",
    "\n",
    "    #Prior Pitch\n",
    "    apperance['last_pitch'] = apperance['pitch_type'].shift(1).fillna('NewAB')\n",
    "\n",
    "    data2 = data2.append(apperance)"
   ]
  },
  {
   "cell_type": "code",
   "execution_count": 269,
   "metadata": {},
   "outputs": [],
   "source": [
    "data2['last_pitch'] = data2['pitch_type'].shift(1).fillna('NewAB')"
   ]
  },
  {
   "cell_type": "code",
   "execution_count": 270,
   "metadata": {},
   "outputs": [],
   "source": [
    "conditions = [\n",
    "    (data2['on_1b'] == True) & (data2['on_2b'] == True) & (data2['on_3b'] == True),\n",
    "    (data2['on_2b'] == True) | (data2['on_3b'] == True),\n",
    "    (data2['on_1b'] == True)\n",
    "]\n",
    "\n",
    "status = ['BL', 'RISP', '1B']\n",
    "\n",
    "data2['Runners_On'] = np.select(conditions, status, default='BasesEmpty')"
   ]
  },
  {
   "cell_type": "code",
   "execution_count": 271,
   "metadata": {},
   "outputs": [],
   "source": [
    "data2['Fav_Pitcher_Matchup'] = data2['p_throws'] == data2['stand']"
   ]
  },
  {
   "cell_type": "code",
   "execution_count": 272,
   "metadata": {},
   "outputs": [],
   "source": [
    "toOneHot = np.array(data2[['Runners_On', 'last_pitch']])\n",
    "onehotencoder = OneHotEncoder(sparse=False) \n",
    "oneHotData = onehotencoder.fit_transform(toOneHot)\n",
    "oneHotData = pd.DataFrame(oneHotData, columns=onehotencoder.get_feature_names(['Runners_On', 'last_pitch']))\n",
    "data2 = data2.reset_index(drop=True)\n",
    "data2 = pd.concat([data2, oneHotData], axis=1)"
   ]
  },
  {
   "cell_type": "code",
   "execution_count": 273,
   "metadata": {},
   "outputs": [],
   "source": [
    "data2['pitch_type'].fillna('FF', inplace = True)"
   ]
  },
  {
   "cell_type": "code",
   "execution_count": 274,
   "metadata": {},
   "outputs": [],
   "source": [
    "# Label encoding Pitch Type so can be fed into models\n",
    "labelencoder = LabelEncoder()\n",
    "PitchTypeEncoded = labelencoder.fit_transform(data2['pitch_type'])\n",
    "\n",
    "data2['pitch_type_le'] = PitchTypeEncoded"
   ]
  },
  {
   "cell_type": "markdown",
   "metadata": {},
   "source": [
    "### Testing on different pitchers"
   ]
  },
  {
   "cell_type": "code",
   "execution_count": 344,
   "metadata": {},
   "outputs": [
    {
     "name": "stdout",
     "output_type": "stream",
     "text": [
      "['Kevin Jepsen']\n"
     ]
    },
    {
     "data": {
      "text/plain": [
       "FF    1258\n",
       "CU     506\n",
       "CH     176\n",
       "FT      96\n",
       "IN       6\n",
       "Name: pitch_type, dtype: int64"
      ]
     },
     "execution_count": 344,
     "metadata": {},
     "output_type": "execute_result"
    }
   ],
   "source": [
    "selected_pitcher = randomPitchers[8]\n",
    "single_pitcher = data2[data2['pitcher'] == selected_pitcher]\n",
    "print(single_pitcher['player_name'].unique())\n",
    "single_pitcher.pitch_type.value_counts()"
   ]
  },
  {
   "cell_type": "code",
   "execution_count": 345,
   "metadata": {},
   "outputs": [],
   "source": [
    "pitch_arsenal = pd.DataFrame(single_pitcher.pitch_type.value_counts() / len(single_pitcher)).reset_index()\n",
    "pitch_arsenal.columns = ['pitch', 'pitch_fequency']\n",
    "pitchesToDrop = pitch_arsenal.loc[pitch_arsenal['pitch_fequency'] < 0.05, 'pitch'].values"
   ]
  },
  {
   "cell_type": "code",
   "execution_count": 346,
   "metadata": {},
   "outputs": [],
   "source": [
    "pitch_columns = lambda a : \"last_pitch_{}\".format(a)\n",
    "\n",
    "last_pitch_columns = pd.Series(single_pitcher['pitch_type'].unique()).apply(pitch_columns)\n",
    "last_pitch_columns = list(last_pitch_columns)"
   ]
  },
  {
   "cell_type": "code",
   "execution_count": 347,
   "metadata": {},
   "outputs": [],
   "source": [
    "StandardPredVars = ['strikes', 'balls','pitch_count_game','Runners_On_RISP', 'Fav_Pitcher_Matchup']\n",
    "PredVars = StandardPredVars + last_pitch_columns\n",
    "#PredVars.remove('last_pitch_nan')"
   ]
  },
  {
   "cell_type": "code",
   "execution_count": 348,
   "metadata": {},
   "outputs": [
    {
     "name": "stderr",
     "output_type": "stream",
     "text": [
      "C:\\Users\\George\\Anaconda3\\lib\\site-packages\\pandas\\core\\frame.py:3697: SettingWithCopyWarning: \n",
      "A value is trying to be set on a copy of a slice from a DataFrame\n",
      "\n",
      "See the caveats in the documentation: http://pandas.pydata.org/pandas-docs/stable/indexing.html#indexing-view-versus-copy\n",
      "  errors=errors)\n"
     ]
    }
   ],
   "source": [
    "single_pitcher.drop(single_pitcher[single_pitcher['pitch_type'].isin(pitchesToDrop)].index , inplace=True)"
   ]
  },
  {
   "cell_type": "code",
   "execution_count": 349,
   "metadata": {},
   "outputs": [],
   "source": [
    "X = single_pitcher[PredVars]\n",
    "y = single_pitcher['pitch_type_le'] \n",
    "\n",
    "X_train, X_test, y_train, y_test = train_test_split(X, y, test_size=0.25, random_state=23)"
   ]
  },
  {
   "cell_type": "code",
   "execution_count": 350,
   "metadata": {},
   "outputs": [
    {
     "name": "stdout",
     "output_type": "stream",
     "text": [
      "Accuracy is 66.2%\n"
     ]
    }
   ],
   "source": [
    "dt_clf = DecisionTreeClassifier(min_samples_split=2,\n",
    "                                max_depth=4,\n",
    "                                max_features=5,\n",
    "                                random_state=23)\n",
    "dt_clf.fit(X_train, y_train)\n",
    "preds = dt_clf.predict(X_test)\n",
    "acc = (preds == y_test).mean()\n",
    "print('Accuracy is {}%'.format(round(acc*100,1)))"
   ]
  },
  {
   "cell_type": "code",
   "execution_count": 351,
   "metadata": {},
   "outputs": [
    {
     "name": "stdout",
     "output_type": "stream",
     "text": [
      "                   pre       rec       spe        f1       geo       iba       sup\n",
      "\n",
      "          0       0.00      0.00      1.00      0.00      0.00      0.00        58\n",
      "          1       0.56      0.33      0.92      0.41      0.55      0.28       116\n",
      "          4       0.68      0.91      0.23      0.78      0.46      0.22       311\n",
      "\n",
      "avg / total       0.57      0.66      0.49      0.60      0.42      0.21       485\n",
      "\n"
     ]
    },
    {
     "name": "stderr",
     "output_type": "stream",
     "text": [
      "C:\\Users\\George\\Anaconda3\\lib\\site-packages\\sklearn\\metrics\\classification.py:1143: UndefinedMetricWarning: Precision and F-score are ill-defined and being set to 0.0 in labels with no predicted samples.\n",
      "  'precision', 'predicted', average, warn_for)\n"
     ]
    }
   ],
   "source": [
    "print(classification_report_imbalanced(y_test, preds))"
   ]
  },
  {
   "cell_type": "markdown",
   "metadata": {},
   "source": [
    "### Trying out Imbalance Learn package"
   ]
  },
  {
   "cell_type": "code",
   "execution_count": 352,
   "metadata": {},
   "outputs": [
    {
     "name": "stdout",
     "output_type": "stream",
     "text": [
      "Training target statistics: Counter({4: 947, 1: 390, 0: 118})\n",
      "Testing target statistics: Counter({4: 311, 1: 116, 0: 58})\n"
     ]
    }
   ],
   "source": [
    "print('Training target statistics: {}'.format(Counter(y_train)))\n",
    "print('Testing target statistics: {}'.format(Counter(y_test)))"
   ]
  },
  {
   "cell_type": "markdown",
   "metadata": {},
   "source": [
    "### Random Oversampled SVC "
   ]
  },
  {
   "cell_type": "code",
   "execution_count": 353,
   "metadata": {},
   "outputs": [
    {
     "name": "stderr",
     "output_type": "stream",
     "text": [
      "C:\\Users\\George\\Anaconda3\\lib\\site-packages\\sklearn\\svm\\base.py:196: FutureWarning: The default value of gamma will change from 'auto' to 'scale' in version 0.22 to account better for unscaled features. Set gamma explicitly to 'auto' or 'scale' to avoid this warning.\n",
      "  \"avoid this warning.\", FutureWarning)\n"
     ]
    },
    {
     "name": "stdout",
     "output_type": "stream",
     "text": [
      "                   pre       rec       spe        f1       geo       iba       sup\n",
      "\n",
      "          0       0.29      0.69      0.77      0.41      0.73      0.53        58\n",
      "          1       0.42      0.61      0.73      0.50      0.67      0.44       116\n",
      "          4       0.83      0.48      0.83      0.61      0.63      0.38       311\n",
      "\n",
      "avg / total       0.67      0.53      0.80      0.56      0.65      0.41       485\n",
      "\n"
     ]
    }
   ],
   "source": [
    "pipe = make_pipeline(RandomOverSampler(random_state=23), SVC())\n",
    "pipe.fit(X_train, y_train)\n",
    "print(classification_report_imbalanced(y_test, pipe.predict(X_test)))"
   ]
  },
  {
   "cell_type": "markdown",
   "metadata": {},
   "source": [
    "### SVM SMOTE Oversampling"
   ]
  },
  {
   "cell_type": "code",
   "execution_count": 354,
   "metadata": {},
   "outputs": [],
   "source": [
    "from imblearn.over_sampling import SVMSMOTE"
   ]
  },
  {
   "cell_type": "code",
   "execution_count": 355,
   "metadata": {},
   "outputs": [],
   "source": [
    "sm = SVMSMOTE(random_state = 2) \n",
    "X_train_res, y_train_res = sm.fit_sample(np.array(X_train), y_train.ravel()) "
   ]
  },
  {
   "cell_type": "code",
   "execution_count": 356,
   "metadata": {},
   "outputs": [
    {
     "name": "stderr",
     "output_type": "stream",
     "text": [
      "C:\\Users\\George\\Anaconda3\\lib\\site-packages\\sklearn\\svm\\base.py:196: FutureWarning: The default value of gamma will change from 'auto' to 'scale' in version 0.22 to account better for unscaled features. Set gamma explicitly to 'auto' or 'scale' to avoid this warning.\n",
      "  \"avoid this warning.\", FutureWarning)\n"
     ]
    }
   ],
   "source": [
    "smote_clf = SVC(random_state=23)\n",
    "\n",
    "smote_clf.fit(X_train_res, y_train_res)\n",
    "preds = smote_clf.predict(X_test)"
   ]
  },
  {
   "cell_type": "code",
   "execution_count": 357,
   "metadata": {},
   "outputs": [
    {
     "name": "stdout",
     "output_type": "stream",
     "text": [
      "                   pre       rec       spe        f1       geo       iba       sup\n",
      "\n",
      "          0       0.33      0.52      0.86      0.41      0.67      0.43        58\n",
      "          1       0.39      0.57      0.72      0.46      0.64      0.41       116\n",
      "          4       0.77      0.56      0.70      0.65      0.62      0.38       311\n",
      "\n",
      "avg / total       0.63      0.56      0.72      0.57      0.63      0.39       485\n",
      "\n"
     ]
    }
   ],
   "source": [
    "print(classification_report_imbalanced(y_test, preds))"
   ]
  },
  {
   "cell_type": "code",
   "execution_count": 358,
   "metadata": {},
   "outputs": [
    {
     "data": {
      "text/plain": [
       "0.5567010309278351"
      ]
     },
     "execution_count": 358,
     "metadata": {},
     "output_type": "execute_result"
    }
   ],
   "source": [
    "(preds == y_test).mean()"
   ]
  },
  {
   "cell_type": "code",
   "execution_count": 359,
   "metadata": {},
   "outputs": [
    {
     "data": {
      "text/plain": [
       "4    0.468041\n",
       "1    0.346392\n",
       "0    0.185567\n",
       "dtype: float64"
      ]
     },
     "execution_count": 359,
     "metadata": {},
     "output_type": "execute_result"
    }
   ],
   "source": [
    "pd.Series(preds).value_counts() / len(preds)"
   ]
  },
  {
   "cell_type": "code",
   "execution_count": 360,
   "metadata": {},
   "outputs": [
    {
     "data": {
      "text/plain": [
       "4    0.641237\n",
       "1    0.239175\n",
       "0    0.119588\n",
       "Name: pitch_type_le, dtype: float64"
      ]
     },
     "execution_count": 360,
     "metadata": {},
     "output_type": "execute_result"
    }
   ],
   "source": [
    "pd.Series(y_test).value_counts() / len(y_test)"
   ]
  },
  {
   "cell_type": "code",
   "execution_count": null,
   "metadata": {},
   "outputs": [],
   "source": []
  }
 ],
 "metadata": {
  "kernelspec": {
   "display_name": "Python 3",
   "language": "python",
   "name": "python3"
  },
  "language_info": {
   "codemirror_mode": {
    "name": "ipython",
    "version": 3
   },
   "file_extension": ".py",
   "mimetype": "text/x-python",
   "name": "python",
   "nbconvert_exporter": "python",
   "pygments_lexer": "ipython3",
   "version": "3.6.5"
  }
 },
 "nbformat": 4,
 "nbformat_minor": 4
}
