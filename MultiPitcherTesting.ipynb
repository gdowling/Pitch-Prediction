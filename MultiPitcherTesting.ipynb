{
 "cells": [
  {
   "cell_type": "code",
   "execution_count": 363,
   "metadata": {},
   "outputs": [],
   "source": [
    "import pandas as pd\n",
    "import os \n",
    "import numpy as np\n",
    "from collections import Counter\n",
    "\n",
    "from sklearn.preprocessing import OneHotEncoder, LabelEncoder\n",
    "from sklearn.model_selection import train_test_split\n",
    "from sklearn.neighbors import KNeighborsClassifier\n",
    "from sklearn.tree import DecisionTreeClassifier\n",
    "from sklearn.ensemble import RandomForestClassifier\n",
    "from sklearn.svm import LinearSVC, SVC\n",
    "\n",
    "\n",
    "from imblearn.over_sampling import RandomOverSampler\n",
    "from imblearn.pipeline import make_pipeline\n",
    "from imblearn.metrics import classification_report_imbalanced\n",
    "\n",
    "os.chdir('C:/Users/George/Documents/Baseball/Pitch Prediction')"
   ]
  },
  {
   "cell_type": "code",
   "execution_count": 147,
   "metadata": {},
   "outputs": [
    {
     "name": "stderr",
     "output_type": "stream",
     "text": [
      "C:\\Users\\George\\Anaconda3\\lib\\site-packages\\IPython\\core\\interactiveshell.py:3058: DtypeWarning: Columns (46) have mixed types. Specify dtype option on import or set low_memory=False.\n",
      "  interactivity=interactivity, compiler=compiler, result=result)\n"
     ]
    }
   ],
   "source": [
    "rawData = pd.read_csv('PitcherData15-19.csv')\n",
    "rawData = rawData.drop(['Unnamed: 0'], axis=1)"
   ]
  },
  {
   "cell_type": "code",
   "execution_count": 250,
   "metadata": {},
   "outputs": [],
   "source": [
    "fastballs = ['FF', 'FT', 'FC', 'FA']\n",
    "\n",
    "slider = ['SL', 'SC']\n",
    "\n",
    "changeup = ['CH', 'EP']\n",
    "\n",
    "sinker = ['FO', 'SI', 'FS']\n",
    "\n",
    "curveball = ['KC', 'CU']\n",
    "\n",
    "knuckleball = ['KN']\n",
    "\n",
    "pitchout = ['PO']\n",
    "\n",
    "intentional = ['IN']\n",
    "\n",
    "unknown = ['UN']"
   ]
  },
  {
   "cell_type": "code",
   "execution_count": 251,
   "metadata": {},
   "outputs": [],
   "source": [
    "conditions = [\n",
    "    rawData['pitch_type'].isin(fastballs),\n",
    "    rawData['pitch_type'].isin(slider),\n",
    "    rawData['pitch_type'].isin(changeup),\n",
    "    rawData['pitch_type'].isin(sinker),\n",
    "    rawData['pitch_type'].isin(curveball),\n",
    "    rawData['pitch_type'].isin(knuckleball),\n",
    "    rawData['pitch_type'].isin(pitchout),\n",
    "    rawData['pitch_type'].isin(intentional),\n",
    "    rawData['pitch_type'].isin(unknown),\n",
    "]\n",
    "\n",
    "status = ['fastball', 'slider', 'changeup', 'sinker', 'curveball', \n",
    "          'knuckleball', 'pitchout', 'intentional', 'unknown']\n",
    "\n",
    "rawData['pitch_type_trunk'] = np.select(conditions, status, default='fastball')"
   ]
  },
  {
   "cell_type": "code",
   "execution_count": 274,
   "metadata": {},
   "outputs": [],
   "source": [
    "randomPitchers = list(pd.Series(rawData['pitcher'].unique()).sample(10))"
   ]
  },
  {
   "cell_type": "code",
   "execution_count": 275,
   "metadata": {},
   "outputs": [],
   "source": [
    "data = rawData[rawData['pitcher'].isin(randomPitchers)]"
   ]
  },
  {
   "cell_type": "code",
   "execution_count": 463,
   "metadata": {},
   "outputs": [],
   "source": [
    "data = rawData[rawData['player_name'] == 'Corey Kluber']"
   ]
  },
  {
   "cell_type": "code",
   "execution_count": 464,
   "metadata": {},
   "outputs": [
    {
     "data": {
      "text/plain": [
       "array(['Corey Kluber'], dtype=object)"
      ]
     },
     "execution_count": 464,
     "metadata": {},
     "output_type": "execute_result"
    }
   ],
   "source": [
    "data.player_name.unique()"
   ]
  },
  {
   "cell_type": "code",
   "execution_count": 465,
   "metadata": {},
   "outputs": [
    {
     "name": "stderr",
     "output_type": "stream",
     "text": [
      "C:\\Users\\George\\Anaconda3\\lib\\site-packages\\pandas\\core\\frame.py:3140: SettingWithCopyWarning: \n",
      "A value is trying to be set on a copy of a slice from a DataFrame.\n",
      "Try using .loc[row_indexer,col_indexer] = value instead\n",
      "\n",
      "See the caveats in the documentation: http://pandas.pydata.org/pandas-docs/stable/indexing.html#indexing-view-versus-copy\n",
      "  self[k1] = value[k2]\n"
     ]
    }
   ],
   "source": [
    "#Binary on base not on a base\n",
    "data[['on_3b', 'on_2b', 'on_1b']] = data[['on_3b', 'on_2b', 'on_1b']].isna() == False"
   ]
  },
  {
   "cell_type": "code",
   "execution_count": 466,
   "metadata": {},
   "outputs": [
    {
     "name": "stderr",
     "output_type": "stream",
     "text": [
      "C:\\Users\\George\\Anaconda3\\lib\\site-packages\\ipykernel_launcher.py:2: SettingWithCopyWarning: \n",
      "A value is trying to be set on a copy of a slice from a DataFrame.\n",
      "Try using .loc[row_indexer,col_indexer] = value instead\n",
      "\n",
      "See the caveats in the documentation: http://pandas.pydata.org/pandas-docs/stable/indexing.html#indexing-view-versus-copy\n",
      "  \n",
      "C:\\Users\\George\\Anaconda3\\lib\\site-packages\\ipykernel_launcher.py:3: SettingWithCopyWarning: \n",
      "A value is trying to be set on a copy of a slice from a DataFrame.\n",
      "Try using .loc[row_indexer,col_indexer] = value instead\n",
      "\n",
      "See the caveats in the documentation: http://pandas.pydata.org/pandas-docs/stable/indexing.html#indexing-view-versus-copy\n",
      "  This is separate from the ipykernel package so we can avoid doing imports until\n",
      "C:\\Users\\George\\Anaconda3\\lib\\site-packages\\ipykernel_launcher.py:4: SettingWithCopyWarning: \n",
      "A value is trying to be set on a copy of a slice from a DataFrame.\n",
      "Try using .loc[row_indexer,col_indexer] = value instead\n",
      "\n",
      "See the caveats in the documentation: http://pandas.pydata.org/pandas-docs/stable/indexing.html#indexing-view-versus-copy\n",
      "  after removing the cwd from sys.path.\n",
      "C:\\Users\\George\\Anaconda3\\lib\\site-packages\\ipykernel_launcher.py:5: SettingWithCopyWarning: \n",
      "A value is trying to be set on a copy of a slice from a DataFrame.\n",
      "Try using .loc[row_indexer,col_indexer] = value instead\n",
      "\n",
      "See the caveats in the documentation: http://pandas.pydata.org/pandas-docs/stable/indexing.html#indexing-view-versus-copy\n",
      "  \"\"\"\n"
     ]
    }
   ],
   "source": [
    "#adding indices \n",
    "data['game_date_index'] = data['game_date'].apply(lambda a: a.replace('-', ''))\n",
    "data['game_index'] = data['game_date_index'] + '_' + data.away_team + '_' + data.home_team \n",
    "data['pitcher_apperance_index'] = data['game_date_index'] + '_' + data['pitcher'].astype(str)    \n",
    "data['atbat_id'] = data['pitcher_apperance_index'] + \"_\" + data['at_bat_number'].astype(str)"
   ]
  },
  {
   "cell_type": "code",
   "execution_count": 467,
   "metadata": {},
   "outputs": [],
   "source": [
    "hit_list = ['double', 'single', 'home_run', 'triple']\n",
    "data2 = pd.DataFrame()\n",
    "for i in data['pitcher_apperance_index'].unique():\n",
    "    \n",
    "    #selecing single game\n",
    "    apperance = data[data['pitcher_apperance_index'] == i] \n",
    "    apperance = apperance.sort_values(['at_bat_number','pitch_number']) #sorting at-bats and pitches\n",
    "    \n",
    "    #pitch count\n",
    "    apperance['pitch_count_game'] = np.arange(len(apperance)) \n",
    "    \n",
    "    #Number of walks\n",
    "    apperance['number_of_walks'] = (apperance['events'] == 'walk').cumsum().shift(1).fillna(0)\n",
    "    \n",
    "    #Number of hits\n",
    "    apperance['number_of_hits'] = apperance['events'].isin(hit_list).cumsum().shift(1).fillna(0)\n",
    "\n",
    "    #Prior Pitch\n",
    "    apperance['last_pitch'] = apperance['pitch_type_trunk'].shift(1).fillna('NewAB')\n",
    "    \n",
    "    #Prior Event\n",
    "    apperance['last_event'] = apperance['description'].shift(1).fillna('FirstAB')\n",
    "\n",
    "\n",
    "    data2 = data2.append(apperance)"
   ]
  },
  {
   "cell_type": "code",
   "execution_count": 468,
   "metadata": {},
   "outputs": [],
   "source": [
    "hit = ['hit_into_play','hit_into_play_no_out', 'hit_into_play_score', 'pitchout_hit_into_play_score']\n",
    "\n",
    "strike = ['swinging_strike', 'foul', 'called_strike', 'swinging_strike_blocked',\n",
    "       'foul_tip', 'foul_bunt', 'missed_bunt', 'swinging_pitchout', 'foul_pitchout', 'bunt_foul_tip']\n",
    "\n",
    "ball = ['ball', 'blocked_ball', 'intent_ball', 'hit_by_pitch', 'automatic_ball']"
   ]
  },
  {
   "cell_type": "code",
   "execution_count": 469,
   "metadata": {},
   "outputs": [],
   "source": [
    "data2['last_event'] = np.where(data2['at_bat_number']==1, 'FirstAB', data2['last_event'])"
   ]
  },
  {
   "cell_type": "code",
   "execution_count": 470,
   "metadata": {},
   "outputs": [],
   "source": [
    "conditions = [\n",
    "    (data2['on_1b'] == True) & (data2['on_2b'] == True) & (data2['on_3b'] == True),\n",
    "    (data2['on_2b'] == True) | (data2['on_3b'] == True),\n",
    "    (data2['on_1b'] == True)\n",
    "]\n",
    "\n",
    "status = ['BL', 'RISP', '1B']\n",
    "\n",
    "data2['Runners_On'] = np.select(conditions, status, default='BasesEmpty')"
   ]
  },
  {
   "cell_type": "code",
   "execution_count": 471,
   "metadata": {},
   "outputs": [],
   "source": [
    "data2['Fav_Pitcher_Matchup'] = data2['p_throws'] == data2['stand']"
   ]
  },
  {
   "cell_type": "code",
   "execution_count": 472,
   "metadata": {},
   "outputs": [
    {
     "name": "stderr",
     "output_type": "stream",
     "text": [
      "C:\\Users\\George\\Anaconda3\\lib\\site-packages\\ipykernel_launcher.py:1: SettingWithCopyWarning: \n",
      "A value is trying to be set on a copy of a slice from a DataFrame\n",
      "\n",
      "See the caveats in the documentation: http://pandas.pydata.org/pandas-docs/stable/indexing.html#indexing-view-versus-copy\n",
      "  \"\"\"Entry point for launching an IPython kernel.\n",
      "C:\\Users\\George\\Anaconda3\\lib\\site-packages\\ipykernel_launcher.py:3: SettingWithCopyWarning: \n",
      "A value is trying to be set on a copy of a slice from a DataFrame\n",
      "\n",
      "See the caveats in the documentation: http://pandas.pydata.org/pandas-docs/stable/indexing.html#indexing-view-versus-copy\n",
      "  This is separate from the ipykernel package so we can avoid doing imports until\n",
      "C:\\Users\\George\\Anaconda3\\lib\\site-packages\\ipykernel_launcher.py:5: SettingWithCopyWarning: \n",
      "A value is trying to be set on a copy of a slice from a DataFrame\n",
      "\n",
      "See the caveats in the documentation: http://pandas.pydata.org/pandas-docs/stable/indexing.html#indexing-view-versus-copy\n",
      "  \"\"\"\n"
     ]
    }
   ],
   "source": [
    "data2.last_event[data2['last_event'].isin(strike)] = 'strike'\n",
    "\n",
    "data2.last_event[data2['last_event'].isin(ball)] = 'ball'\n",
    "\n",
    "data2.last_event[data2['last_event'].isin(hit)] = 'hit'"
   ]
  },
  {
   "cell_type": "code",
   "execution_count": 473,
   "metadata": {},
   "outputs": [],
   "source": [
    "data2['run_diff'] = data2.fld_score - data2.bat_score"
   ]
  },
  {
   "cell_type": "code",
   "execution_count": 474,
   "metadata": {},
   "outputs": [],
   "source": [
    "data2['if_fielding_alignment'] = data2.if_fielding_alignment.fillna('Standard')"
   ]
  },
  {
   "cell_type": "code",
   "execution_count": 475,
   "metadata": {},
   "outputs": [],
   "source": [
    "toOneHot = np.array(data2[['Runners_On', 'last_pitch', 'last_event', 'if_fielding_alignment']])\n",
    "onehotencoder = OneHotEncoder(sparse=False) \n",
    "oneHotData = onehotencoder.fit_transform(toOneHot)"
   ]
  },
  {
   "cell_type": "code",
   "execution_count": 476,
   "metadata": {},
   "outputs": [],
   "source": [
    "oneHotData = pd.DataFrame(oneHotData, columns=onehotencoder.get_feature_names(['Runners_On', 'last_pitch', \n",
    "                                                                               'last_event', 'if_fielding_alignment']))\n",
    "data2 = data2.reset_index(drop=True)"
   ]
  },
  {
   "cell_type": "code",
   "execution_count": 477,
   "metadata": {},
   "outputs": [],
   "source": [
    "data2 = pd.concat([data2, oneHotData], axis=1)"
   ]
  },
  {
   "cell_type": "code",
   "execution_count": 478,
   "metadata": {},
   "outputs": [],
   "source": [
    "data2['pitch_type_trunk'].fillna('fastball', inplace = True)"
   ]
  },
  {
   "cell_type": "code",
   "execution_count": 479,
   "metadata": {},
   "outputs": [],
   "source": [
    "# Label encoding Pitch Type so can be fed into models\n",
    "labelencoder = LabelEncoder()\n",
    "PitchTypeEncoded = labelencoder.fit_transform(data2['pitch_type_trunk'])\n",
    "\n",
    "data2['pitch_type_trunk_le'] = PitchTypeEncoded"
   ]
  },
  {
   "cell_type": "markdown",
   "metadata": {},
   "source": [
    "### Testing on different pitchers"
   ]
  },
  {
   "cell_type": "code",
   "execution_count": 480,
   "metadata": {},
   "outputs": [
    {
     "name": "stdout",
     "output_type": "stream",
     "text": [
      "['Corey Kluber']\n"
     ]
    },
    {
     "data": {
      "text/plain": [
       "sinker         4131\n",
       "fastball       3865\n",
       "curveball      2739\n",
       "slider         1612\n",
       "changeup        730\n",
       "intentional      14\n",
       "pitchout          1\n",
       "Name: pitch_type_trunk, dtype: int64"
      ]
     },
     "execution_count": 480,
     "metadata": {},
     "output_type": "execute_result"
    }
   ],
   "source": [
    "#selected_pitcher = randomPitchers[8]\n",
    "#single_pitcher = data2[data2['pitcher'] == selected_pitcher]\n",
    "single_pitcher = data2\n",
    "print(single_pitcher['player_name'].unique())\n",
    "single_pitcher.pitch_type_trunk.value_counts()"
   ]
  },
  {
   "cell_type": "code",
   "execution_count": 481,
   "metadata": {},
   "outputs": [],
   "source": [
    "pitch_arsenal = pd.DataFrame(single_pitcher.pitch_type_trunk.value_counts() / len(single_pitcher)).reset_index()\n",
    "pitch_arsenal.columns = ['pitch', 'pitch_fequency']\n",
    "pitchesToDrop = pitch_arsenal.loc[pitch_arsenal['pitch_fequency'] < 0.03, 'pitch'].values"
   ]
  },
  {
   "cell_type": "code",
   "execution_count": 482,
   "metadata": {},
   "outputs": [],
   "source": [
    "pitch_columns = lambda a : \"last_pitch_{}\".format(a)\n",
    "\n",
    "last_pitch_columns = pd.Series(single_pitcher['pitch_type_trunk'].unique()).apply(pitch_columns)\n",
    "last_pitch_columns = list(last_pitch_columns)"
   ]
  },
  {
   "cell_type": "code",
   "execution_count": 483,
   "metadata": {},
   "outputs": [],
   "source": [
    "StandardPredVars = ['strikes', 'balls','pitch_count_game','Runners_On_RISP', 'Fav_Pitcher_Matchup',\n",
    "                    'run_diff', 'if_fielding_alignment_Strategic']\n",
    "PredVars = StandardPredVars + last_pitch_columns"
   ]
  },
  {
   "cell_type": "code",
   "execution_count": 484,
   "metadata": {},
   "outputs": [],
   "source": [
    "single_pitcher.drop(single_pitcher[single_pitcher['pitch_type_trunk'].isin(pitchesToDrop)].index , inplace=True)"
   ]
  },
  {
   "cell_type": "code",
   "execution_count": 485,
   "metadata": {},
   "outputs": [],
   "source": [
    "X = single_pitcher[PredVars]\n",
    "y = single_pitcher['pitch_type_trunk_le'] \n",
    "\n",
    "X_train, X_test, y_train, y_test = train_test_split(X, y, test_size=0.25, random_state=23)"
   ]
  },
  {
   "cell_type": "code",
   "execution_count": 486,
   "metadata": {},
   "outputs": [
    {
     "name": "stdout",
     "output_type": "stream",
     "text": [
      "Accuracy is 33.2%\n"
     ]
    }
   ],
   "source": [
    "dt_clf = DecisionTreeClassifier(min_samples_split=2,\n",
    "                                max_depth=4,\n",
    "                                random_state=23)\n",
    "dt_clf.fit(X_train, y_train)\n",
    "preds = dt_clf.predict(X_test)\n",
    "acc = (preds == y_test).mean()\n",
    "print('Accuracy is {}%'.format(round(acc*100,1)))"
   ]
  },
  {
   "cell_type": "code",
   "execution_count": 487,
   "metadata": {},
   "outputs": [
    {
     "name": "stdout",
     "output_type": "stream",
     "text": [
      "                   pre       rec       spe        f1       geo       iba       sup\n",
      "\n",
      "          0       0.00      0.00      1.00      0.00      0.00      0.00       179\n",
      "          1       0.36      0.29      0.86      0.32      0.50      0.24       674\n",
      "          2       0.32      0.38      0.63      0.35      0.49      0.23      1011\n",
      "          5       0.34      0.50      0.56      0.40      0.53      0.28      1007\n",
      "          6       0.00      0.00      1.00      0.00      0.00      0.00       399\n",
      "\n",
      "avg / total       0.27      0.33      0.72      0.30      0.42      0.21      3270\n",
      "\n"
     ]
    },
    {
     "name": "stderr",
     "output_type": "stream",
     "text": [
      "C:\\Users\\George\\Anaconda3\\lib\\site-packages\\sklearn\\metrics\\classification.py:1143: UndefinedMetricWarning: Precision and F-score are ill-defined and being set to 0.0 in labels with no predicted samples.\n",
      "  'precision', 'predicted', average, warn_for)\n"
     ]
    }
   ],
   "source": [
    "print(classification_report_imbalanced(y_test, preds))"
   ]
  },
  {
   "cell_type": "markdown",
   "metadata": {},
   "source": [
    "### Trying out Imbalance Learn package"
   ]
  },
  {
   "cell_type": "code",
   "execution_count": 488,
   "metadata": {},
   "outputs": [
    {
     "name": "stdout",
     "output_type": "stream",
     "text": [
      "Training target statistics: Counter({5: 3124, 2: 2854, 1: 2065, 6: 1213, 0: 551})\n",
      "Testing target statistics: Counter({2: 1011, 5: 1007, 1: 674, 6: 399, 0: 179})\n"
     ]
    }
   ],
   "source": [
    "print('Training target statistics: {}'.format(Counter(y_train)))\n",
    "print('Testing target statistics: {}'.format(Counter(y_test)))"
   ]
  },
  {
   "cell_type": "markdown",
   "metadata": {},
   "source": [
    "### Random Oversampled SVC "
   ]
  },
  {
   "cell_type": "code",
   "execution_count": 489,
   "metadata": {},
   "outputs": [
    {
     "name": "stderr",
     "output_type": "stream",
     "text": [
      "C:\\Users\\George\\Anaconda3\\lib\\site-packages\\sklearn\\svm\\base.py:196: FutureWarning: The default value of gamma will change from 'auto' to 'scale' in version 0.22 to account better for unscaled features. Set gamma explicitly to 'auto' or 'scale' to avoid this warning.\n",
      "  \"avoid this warning.\", FutureWarning)\n"
     ]
    },
    {
     "name": "stdout",
     "output_type": "stream",
     "text": [
      "                   pre       rec       spe        f1       geo       iba       sup\n",
      "\n",
      "          0       0.12      0.50      0.79      0.19      0.63      0.38       179\n",
      "          1       0.30      0.39      0.76      0.34      0.55      0.29       674\n",
      "          2       0.35      0.18      0.85      0.24      0.39      0.14      1011\n",
      "          5       0.39      0.20      0.86      0.27      0.42      0.16      1007\n",
      "          6       0.16      0.25      0.82      0.20      0.45      0.19       399\n",
      "\n",
      "avg / total       0.32      0.26      0.83      0.26      0.45      0.20      3270\n",
      "\n"
     ]
    }
   ],
   "source": [
    "pipe = make_pipeline(RandomOverSampler(random_state=23), SVC())\n",
    "pipe.fit(X_train, y_train)\n",
    "print(classification_report_imbalanced(y_test, pipe.predict(X_test)))"
   ]
  },
  {
   "cell_type": "markdown",
   "metadata": {},
   "source": [
    "### SVM SMOTE Oversampling"
   ]
  },
  {
   "cell_type": "code",
   "execution_count": 490,
   "metadata": {},
   "outputs": [],
   "source": [
    "from imblearn.over_sampling import SVMSMOTE"
   ]
  },
  {
   "cell_type": "code",
   "execution_count": 491,
   "metadata": {},
   "outputs": [],
   "source": [
    "sm = SVMSMOTE(random_state = 2) \n",
    "X_train_res, y_train_res = sm.fit_sample(np.array(X_train), y_train.ravel()) "
   ]
  },
  {
   "cell_type": "code",
   "execution_count": 492,
   "metadata": {},
   "outputs": [
    {
     "name": "stderr",
     "output_type": "stream",
     "text": [
      "C:\\Users\\George\\Anaconda3\\lib\\site-packages\\sklearn\\svm\\base.py:196: FutureWarning: The default value of gamma will change from 'auto' to 'scale' in version 0.22 to account better for unscaled features. Set gamma explicitly to 'auto' or 'scale' to avoid this warning.\n",
      "  \"avoid this warning.\", FutureWarning)\n"
     ]
    }
   ],
   "source": [
    "smote_clf = SVC(random_state=23)\n",
    "\n",
    "smote_clf.fit(X_train_res, y_train_res)\n",
    "preds = smote_clf.predict(X_test)"
   ]
  },
  {
   "cell_type": "code",
   "execution_count": 493,
   "metadata": {},
   "outputs": [
    {
     "name": "stdout",
     "output_type": "stream",
     "text": [
      "                   pre       rec       spe        f1       geo       iba       sup\n",
      "\n",
      "          0       0.14      0.26      0.90      0.18      0.49      0.22       179\n",
      "          1       0.31      0.43      0.75      0.36      0.57      0.31       674\n",
      "          2       0.35      0.27      0.78      0.30      0.45      0.20      1011\n",
      "          5       0.37      0.27      0.80      0.31      0.46      0.20      1007\n",
      "          6       0.18      0.22      0.86      0.20      0.43      0.18       399\n",
      "\n",
      "avg / total       0.31      0.29      0.79      0.30      0.48      0.22      3270\n",
      "\n"
     ]
    }
   ],
   "source": [
    "print(classification_report_imbalanced(y_test, preds))"
   ]
  },
  {
   "cell_type": "code",
   "execution_count": 494,
   "metadata": {},
   "outputs": [
    {
     "data": {
      "text/plain": [
       "0.29388379204892967"
      ]
     },
     "execution_count": 494,
     "metadata": {},
     "output_type": "execute_result"
    }
   ],
   "source": [
    "(preds == y_test).mean()"
   ]
  },
  {
   "cell_type": "code",
   "execution_count": 495,
   "metadata": {},
   "outputs": [
    {
     "data": {
      "text/plain": [
       "1    0.286544\n",
       "2    0.237920\n",
       "5    0.223547\n",
       "6    0.147401\n",
       "0    0.104587\n",
       "dtype: float64"
      ]
     },
     "execution_count": 495,
     "metadata": {},
     "output_type": "execute_result"
    }
   ],
   "source": [
    "pd.Series(preds).value_counts() / len(preds)"
   ]
  },
  {
   "cell_type": "code",
   "execution_count": 496,
   "metadata": {},
   "outputs": [
    {
     "data": {
      "text/plain": [
       "2    0.309174\n",
       "5    0.307951\n",
       "1    0.206116\n",
       "6    0.122018\n",
       "0    0.054740\n",
       "Name: pitch_type_trunk_le, dtype: float64"
      ]
     },
     "execution_count": 496,
     "metadata": {},
     "output_type": "execute_result"
    }
   ],
   "source": [
    "pd.Series(y_test).value_counts() / len(y_test)"
   ]
  },
  {
   "cell_type": "code",
   "execution_count": null,
   "metadata": {},
   "outputs": [],
   "source": []
  }
 ],
 "metadata": {
  "kernelspec": {
   "display_name": "Python 3",
   "language": "python",
   "name": "python3"
  },
  "language_info": {
   "codemirror_mode": {
    "name": "ipython",
    "version": 3
   },
   "file_extension": ".py",
   "mimetype": "text/x-python",
   "name": "python",
   "nbconvert_exporter": "python",
   "pygments_lexer": "ipython3",
   "version": "3.6.5"
  }
 },
 "nbformat": 4,
 "nbformat_minor": 4
}
