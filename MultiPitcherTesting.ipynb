{
 "cells": [
  {
   "cell_type": "code",
   "execution_count": 1,
   "metadata": {},
   "outputs": [],
   "source": [
    "import pandas as pd\n",
    "import os \n",
    "import numpy as np\n",
    "\n",
    "from sklearn.preprocessing import OneHotEncoder, LabelEncoder\n",
    "from sklearn.model_selection import train_test_split\n",
    "from sklearn.neighbors import KNeighborsClassifier\n",
    "from sklearn.tree import DecisionTreeClassifier\n",
    "from sklearn.ensemble import RandomForestClassifier\n",
    "\n",
    "os.chdir('C:/Users/George/Documents/Baseball/2008-2017_pitch_data')"
   ]
  },
  {
   "cell_type": "code",
   "execution_count": 2,
   "metadata": {},
   "outputs": [],
   "source": [
    "rawData = pd.read_csv('baseballdata1517.csv')\n",
    "rawData = rawData.drop(['Unnamed: 0'], axis=1)"
   ]
  },
  {
   "cell_type": "code",
   "execution_count": 3,
   "metadata": {},
   "outputs": [],
   "source": [
    "randomPitchers = list(pd.Series(rawData['pitcher'].unique()).sample(10))"
   ]
  },
  {
   "cell_type": "code",
   "execution_count": 4,
   "metadata": {},
   "outputs": [],
   "source": [
    "data = rawData[rawData['pitcher'].isin(randomPitchers)]"
   ]
  },
  {
   "cell_type": "code",
   "execution_count": 5,
   "metadata": {
    "collapsed": true,
    "jupyter": {
     "outputs_hidden": true
    }
   },
   "outputs": [
    {
     "name": "stderr",
     "output_type": "stream",
     "text": [
      "C:\\Users\\George\\Anaconda3\\lib\\site-packages\\pandas\\core\\frame.py:3140: SettingWithCopyWarning: \n",
      "A value is trying to be set on a copy of a slice from a DataFrame.\n",
      "Try using .loc[row_indexer,col_indexer] = value instead\n",
      "\n",
      "See the caveats in the documentation: http://pandas.pydata.org/pandas-docs/stable/indexing.html#indexing-view-versus-copy\n",
      "  self[k1] = value[k2]\n"
     ]
    }
   ],
   "source": [
    "#Binary on base not on a base\n",
    "data[['on_3b', 'on_2b', 'on_1b']] = data[['on_3b', 'on_2b', 'on_1b']].isna() == False"
   ]
  },
  {
   "cell_type": "code",
   "execution_count": 6,
   "metadata": {
    "collapsed": true,
    "jupyter": {
     "outputs_hidden": true
    }
   },
   "outputs": [
    {
     "name": "stderr",
     "output_type": "stream",
     "text": [
      "C:\\Users\\George\\Anaconda3\\lib\\site-packages\\ipykernel_launcher.py:2: SettingWithCopyWarning: \n",
      "A value is trying to be set on a copy of a slice from a DataFrame.\n",
      "Try using .loc[row_indexer,col_indexer] = value instead\n",
      "\n",
      "See the caveats in the documentation: http://pandas.pydata.org/pandas-docs/stable/indexing.html#indexing-view-versus-copy\n",
      "  \n",
      "C:\\Users\\George\\Anaconda3\\lib\\site-packages\\ipykernel_launcher.py:3: SettingWithCopyWarning: \n",
      "A value is trying to be set on a copy of a slice from a DataFrame.\n",
      "Try using .loc[row_indexer,col_indexer] = value instead\n",
      "\n",
      "See the caveats in the documentation: http://pandas.pydata.org/pandas-docs/stable/indexing.html#indexing-view-versus-copy\n",
      "  This is separate from the ipykernel package so we can avoid doing imports until\n",
      "C:\\Users\\George\\Anaconda3\\lib\\site-packages\\ipykernel_launcher.py:4: SettingWithCopyWarning: \n",
      "A value is trying to be set on a copy of a slice from a DataFrame.\n",
      "Try using .loc[row_indexer,col_indexer] = value instead\n",
      "\n",
      "See the caveats in the documentation: http://pandas.pydata.org/pandas-docs/stable/indexing.html#indexing-view-versus-copy\n",
      "  after removing the cwd from sys.path.\n",
      "C:\\Users\\George\\Anaconda3\\lib\\site-packages\\ipykernel_launcher.py:5: SettingWithCopyWarning: \n",
      "A value is trying to be set on a copy of a slice from a DataFrame.\n",
      "Try using .loc[row_indexer,col_indexer] = value instead\n",
      "\n",
      "See the caveats in the documentation: http://pandas.pydata.org/pandas-docs/stable/indexing.html#indexing-view-versus-copy\n",
      "  \"\"\"\n"
     ]
    }
   ],
   "source": [
    "#adding indices \n",
    "data['game_date_index'] = data['game_date'].apply(lambda a: a.replace('-', ''))\n",
    "data['game_index'] = data['game_date_index'] + '_' + data.away_team + '_' + data.home_team \n",
    "data['pitcher_apperance_index'] = data['game_date_index'] + '_' + data['pitcher'].astype(str)    \n",
    "data['atbat_id'] = data['pitcher_apperance_index'] + \"_\" + data['at_bat_number'].astype(str)"
   ]
  },
  {
   "cell_type": "code",
   "execution_count": 7,
   "metadata": {},
   "outputs": [],
   "source": [
    "hit_list = ['double', 'single', 'home_run', 'triple']\n",
    "data2 = pd.DataFrame()\n",
    "for i in data['pitcher_apperance_index'].unique():\n",
    "    \n",
    "    #selecing single game\n",
    "    apperance = data[data['pitcher_apperance_index'] == i] \n",
    "    apperance = apperance.sort_values(['at_bat_number','pitch_number']) #sorting at-bats and pitches\n",
    "    \n",
    "    #pitch count\n",
    "    apperance['pitch_count_game'] = np.arange(len(apperance)) \n",
    "    \n",
    "    #Number of walks\n",
    "    apperance['number_of_walks'] = (apperance['events'] == 'walk').cumsum().shift(1).fillna(0)\n",
    "    \n",
    "    #Number of hits\n",
    "    apperance['number_of_hits'] = apperance['events'].isin(hit_list).cumsum().shift(1).fillna(0)\n",
    "    \n",
    "    data2 = data2.append(apperance)"
   ]
  },
  {
   "cell_type": "code",
   "execution_count": 8,
   "metadata": {},
   "outputs": [],
   "source": [
    "data3 = pd.DataFrame()\n",
    "for i in data2['atbat_id'].unique():\n",
    "    atbat = data2[data2['atbat_id'] == i]\n",
    "    atbat = atbat.sort_values('pitch_number')\n",
    "\n",
    "    \n",
    "    atbat['last_pitch'] = atbat['pitch_type'].shift(1).fillna('NewAB')\n",
    "\n",
    "    atbat[['last_plate_x', 'last_plate_z']] = atbat[['plate_x', 'plate_z']].shift(1)\n",
    "    atbat[['last_2_plate_x', 'last_2_plate_z']] = atbat[['plate_x', 'plate_z']].shift(1).rolling(2).mean()\n",
    "    \n",
    "    atbat['last_pitch_speed'] = atbat['effective_speed'].shift(1)\n",
    "    atbat['last_2_pitch_speed'] = atbat['effective_speed'].shift(1).rolling(2).mean()\n",
    "    \n",
    "    data3 = data3.append(atbat)    "
   ]
  },
  {
   "cell_type": "code",
   "execution_count": 9,
   "metadata": {},
   "outputs": [],
   "source": [
    "conditions = [\n",
    "    (data3['on_1b'] == True) & (data3['on_2b'] == True) & (data3['on_3b'] == True),\n",
    "    (data3['on_2b'] == True) | (data3['on_3b'] == True),\n",
    "    (data3['on_1b'] == True)\n",
    "]\n",
    "\n",
    "status = ['BL', 'RISP', '1B']\n",
    "\n",
    "data3['Runners_On'] = np.select(conditions, status, default='BasesEmpty')"
   ]
  },
  {
   "cell_type": "code",
   "execution_count": 10,
   "metadata": {},
   "outputs": [],
   "source": [
    "data3['Fav_Pitcher_Matchup'] = data3['p_throws'] == data3['stand']"
   ]
  },
  {
   "cell_type": "code",
   "execution_count": 14,
   "metadata": {},
   "outputs": [],
   "source": [
    "toOneHot = np.array(data3[['Runners_On', 'last_pitch']])\n",
    "onehotencoder = OneHotEncoder(sparse=False) \n",
    "oneHotData = onehotencoder.fit_transform(toOneHot)\n",
    "oneHotData = pd.DataFrame(oneHotData, columns=onehotencoder.get_feature_names(['Runners_On', 'last_pitch']))\n",
    "data3 = data3.reset_index(drop=True)\n",
    "data3 = pd.concat([data3, oneHotData], axis=1)"
   ]
  },
  {
   "cell_type": "code",
   "execution_count": 98,
   "metadata": {},
   "outputs": [],
   "source": [
    "data3['pitch_type'].fillna('FF', inplace = True)"
   ]
  },
  {
   "cell_type": "code",
   "execution_count": 99,
   "metadata": {},
   "outputs": [],
   "source": [
    "# Label encoding Pitch Type so can be fed into models\n",
    "labelencoder = LabelEncoder()\n",
    "PitchTypeEncoded = labelencoder.fit_transform(data3['pitch_type'])\n",
    "\n",
    "data3['pitch_type_le'] = PitchTypeEncoded"
   ]
  },
  {
   "cell_type": "code",
   "execution_count": 285,
   "metadata": {},
   "outputs": [],
   "source": [
    "selected_pitcher = randomPitchers[4]\n",
    "single_pitcher = data3[data3['pitcher'] == selected_pitcher]"
   ]
  },
  {
   "cell_type": "code",
   "execution_count": 286,
   "metadata": {
    "collapsed": true,
    "jupyter": {
     "outputs_hidden": true
    }
   },
   "outputs": [
    {
     "name": "stderr",
     "output_type": "stream",
     "text": [
      "C:\\Users\\George\\Anaconda3\\lib\\site-packages\\ipykernel_launcher.py:1: SettingWithCopyWarning: \n",
      "A value is trying to be set on a copy of a slice from a DataFrame.\n",
      "Try using .loc[row_indexer,col_indexer] = value instead\n",
      "\n",
      "See the caveats in the documentation: http://pandas.pydata.org/pandas-docs/stable/indexing.html#indexing-view-versus-copy\n",
      "  \"\"\"Entry point for launching an IPython kernel.\n"
     ]
    }
   ],
   "source": [
    "single_pitcher['game_date'] = pd.to_datetime(single_pitcher.game_date)\n",
    "#single_pitcher = single_pitcher[single_pitcher['game_date'] > '2016-01-01']\n"
   ]
  },
  {
   "cell_type": "code",
   "execution_count": 287,
   "metadata": {},
   "outputs": [],
   "source": [
    "pitch_columns = lambda a : \"last_pitch_{}\".format(a)\n",
    "\n",
    "last_pitch_columns = pd.Series(single_pitcher['pitch_type'].unique()).apply(pitch_columns)\n",
    "last_pitch_columns = list(last_pitch_columns)"
   ]
  },
  {
   "cell_type": "code",
   "execution_count": 288,
   "metadata": {},
   "outputs": [],
   "source": [
    "StandardPredVars = ['strikes', 'balls','pitch_count_game','Runners_On_RISP', 'Fav_Pitcher_Matchup']\n",
    "PredVars = StandardPredVars + last_pitch_columns\n",
    "#PredVars.remove('last_pitch_nan')"
   ]
  },
  {
   "cell_type": "code",
   "execution_count": 289,
   "metadata": {},
   "outputs": [],
   "source": [
    "X = single_pitcher[PredVars]\n",
    "y = single_pitcher['pitch_type_le'] \n",
    "\n",
    "X_train, X_test, y_train, y_test = train_test_split(X, y, test_size=0.25, random_state=23)"
   ]
  },
  {
   "cell_type": "code",
   "execution_count": 290,
   "metadata": {
    "collapsed": true,
    "jupyter": {
     "outputs_hidden": true
    }
   },
   "outputs": [
    {
     "name": "stdout",
     "output_type": "stream",
     "text": [
      "For 2 max depth the accuracy is 62.3%\n",
      "For 3 max depth the accuracy is 62.3%\n",
      "For 4 max depth the accuracy is 62.3%\n",
      "For 5 max depth the accuracy is 62.3%\n",
      "For 6 max depth the accuracy is 62.3%\n",
      "For 7 max depth the accuracy is 62.3%\n",
      "For 8 max depth the accuracy is 62.3%\n",
      "For 9 max depth the accuracy is 62.3%\n",
      "For 10 max depth the accuracy is 62.3%\n",
      "For 11 max depth the accuracy is 62.3%\n",
      "For 12 max depth the accuracy is 62.3%\n",
      "For 13 max depth the accuracy is 62.3%\n",
      "For 14 max depth the accuracy is 62.3%\n",
      "For 15 max depth the accuracy is 62.3%\n"
     ]
    }
   ],
   "source": [
    "for i in range(2,16):\n",
    "    dt_clf = DecisionTreeClassifier(min_samples_split=2,\n",
    "                                    max_depth=4,\n",
    "                                    max_features=5,\n",
    "                                    random_state=23)\n",
    "    dt_clf.fit(X_train, y_train)\n",
    "    preds = dt_clf.predict(X_test)\n",
    "    acc = (preds == y_test).mean()\n",
    "    print('For {} max depth the accuracy is {}%'.format(i, round(acc*100,1)))"
   ]
  },
  {
   "cell_type": "code",
   "execution_count": 291,
   "metadata": {},
   "outputs": [
    {
     "data": {
      "text/plain": [
       "FF    0.520571\n",
       "SL    0.453983\n",
       "CH    0.024019\n",
       "IN    0.000951\n",
       "PO    0.000476\n",
       "Name: pitch_type, dtype: float64"
      ]
     },
     "execution_count": 291,
     "metadata": {},
     "output_type": "execute_result"
    }
   ],
   "source": [
    "single_pitcher.pitch_type.value_counts() / len(single_pitcher)"
   ]
  },
  {
   "cell_type": "code",
   "execution_count": 292,
   "metadata": {},
   "outputs": [
    {
     "data": {
      "text/plain": [
       "9    0.545627\n",
       "3    0.454373\n",
       "dtype: float64"
      ]
     },
     "execution_count": 292,
     "metadata": {},
     "output_type": "execute_result"
    }
   ],
   "source": [
    "pd.Series(preds).value_counts() / len(preds)"
   ]
  },
  {
   "cell_type": "code",
   "execution_count": 293,
   "metadata": {},
   "outputs": [
    {
     "data": {
      "text/plain": [
       "3    0.521863\n",
       "9    0.458175\n",
       "0    0.019011\n",
       "8    0.000951\n",
       "Name: pitch_type_le, dtype: float64"
      ]
     },
     "execution_count": 293,
     "metadata": {},
     "output_type": "execute_result"
    }
   ],
   "source": [
    "pd.Series(y_test).value_counts() / len(y_test)"
   ]
  },
  {
   "cell_type": "code",
   "execution_count": null,
   "metadata": {},
   "outputs": [],
   "source": []
  }
 ],
 "metadata": {
  "kernelspec": {
   "display_name": "Python 3",
   "language": "python",
   "name": "python3"
  },
  "language_info": {
   "codemirror_mode": {
    "name": "ipython",
    "version": 3
   },
   "file_extension": ".py",
   "mimetype": "text/x-python",
   "name": "python",
   "nbconvert_exporter": "python",
   "pygments_lexer": "ipython3",
   "version": "3.6.5"
  }
 },
 "nbformat": 4,
 "nbformat_minor": 4
}
