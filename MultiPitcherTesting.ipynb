{
 "cells": [
  {
   "cell_type": "code",
   "execution_count": 317,
   "metadata": {},
   "outputs": [],
   "source": [
    "import pandas as pd\n",
    "import os \n",
    "import numpy as np\n",
    "from collections import Counter\n",
    "\n",
    "from sklearn.preprocessing import OneHotEncoder, LabelEncoder\n",
    "from sklearn.model_selection import train_test_split\n",
    "from sklearn.neighbors import KNeighborsClassifier\n",
    "from sklearn.tree import DecisionTreeClassifier\n",
    "from sklearn.ensemble import RandomForestClassifier\n",
    "from sklearn.svm import SVC\n",
    "\n",
    "\n",
    "from imblearn.over_sampling import RandomOverSampler\n",
    "from imblearn.pipeline import make_pipeline\n",
    "from imblearn.metrics import classification_report_imbalanced\n",
    "\n",
    "os.chdir('C:/Users/George/Documents/Baseball/2008-2017_pitch_data')"
   ]
  },
  {
   "cell_type": "code",
   "execution_count": 2,
   "metadata": {},
   "outputs": [],
   "source": [
    "rawData = pd.read_csv('baseballdata1517.csv')\n",
    "rawData = rawData.drop(['Unnamed: 0'], axis=1)"
   ]
  },
  {
   "cell_type": "code",
   "execution_count": 3,
   "metadata": {},
   "outputs": [],
   "source": [
    "randomPitchers = list(pd.Series(rawData['pitcher'].unique()).sample(10))"
   ]
  },
  {
   "cell_type": "code",
   "execution_count": 4,
   "metadata": {},
   "outputs": [],
   "source": [
    "data = rawData[rawData['pitcher'].isin(randomPitchers)]"
   ]
  },
  {
   "cell_type": "code",
   "execution_count": 5,
   "metadata": {
    "collapsed": true,
    "jupyter": {
     "outputs_hidden": true
    }
   },
   "outputs": [
    {
     "name": "stderr",
     "output_type": "stream",
     "text": [
      "C:\\Users\\George\\Anaconda3\\lib\\site-packages\\pandas\\core\\frame.py:3140: SettingWithCopyWarning: \n",
      "A value is trying to be set on a copy of a slice from a DataFrame.\n",
      "Try using .loc[row_indexer,col_indexer] = value instead\n",
      "\n",
      "See the caveats in the documentation: http://pandas.pydata.org/pandas-docs/stable/indexing.html#indexing-view-versus-copy\n",
      "  self[k1] = value[k2]\n"
     ]
    }
   ],
   "source": [
    "#Binary on base not on a base\n",
    "data[['on_3b', 'on_2b', 'on_1b']] = data[['on_3b', 'on_2b', 'on_1b']].isna() == False"
   ]
  },
  {
   "cell_type": "code",
   "execution_count": 6,
   "metadata": {
    "collapsed": true,
    "jupyter": {
     "outputs_hidden": true
    }
   },
   "outputs": [
    {
     "name": "stderr",
     "output_type": "stream",
     "text": [
      "C:\\Users\\George\\Anaconda3\\lib\\site-packages\\ipykernel_launcher.py:2: SettingWithCopyWarning: \n",
      "A value is trying to be set on a copy of a slice from a DataFrame.\n",
      "Try using .loc[row_indexer,col_indexer] = value instead\n",
      "\n",
      "See the caveats in the documentation: http://pandas.pydata.org/pandas-docs/stable/indexing.html#indexing-view-versus-copy\n",
      "  \n",
      "C:\\Users\\George\\Anaconda3\\lib\\site-packages\\ipykernel_launcher.py:3: SettingWithCopyWarning: \n",
      "A value is trying to be set on a copy of a slice from a DataFrame.\n",
      "Try using .loc[row_indexer,col_indexer] = value instead\n",
      "\n",
      "See the caveats in the documentation: http://pandas.pydata.org/pandas-docs/stable/indexing.html#indexing-view-versus-copy\n",
      "  This is separate from the ipykernel package so we can avoid doing imports until\n",
      "C:\\Users\\George\\Anaconda3\\lib\\site-packages\\ipykernel_launcher.py:4: SettingWithCopyWarning: \n",
      "A value is trying to be set on a copy of a slice from a DataFrame.\n",
      "Try using .loc[row_indexer,col_indexer] = value instead\n",
      "\n",
      "See the caveats in the documentation: http://pandas.pydata.org/pandas-docs/stable/indexing.html#indexing-view-versus-copy\n",
      "  after removing the cwd from sys.path.\n",
      "C:\\Users\\George\\Anaconda3\\lib\\site-packages\\ipykernel_launcher.py:5: SettingWithCopyWarning: \n",
      "A value is trying to be set on a copy of a slice from a DataFrame.\n",
      "Try using .loc[row_indexer,col_indexer] = value instead\n",
      "\n",
      "See the caveats in the documentation: http://pandas.pydata.org/pandas-docs/stable/indexing.html#indexing-view-versus-copy\n",
      "  \"\"\"\n"
     ]
    }
   ],
   "source": [
    "#adding indices \n",
    "data['game_date_index'] = data['game_date'].apply(lambda a: a.replace('-', ''))\n",
    "data['game_index'] = data['game_date_index'] + '_' + data.away_team + '_' + data.home_team \n",
    "data['pitcher_apperance_index'] = data['game_date_index'] + '_' + data['pitcher'].astype(str)    \n",
    "data['atbat_id'] = data['pitcher_apperance_index'] + \"_\" + data['at_bat_number'].astype(str)"
   ]
  },
  {
   "cell_type": "code",
   "execution_count": 7,
   "metadata": {},
   "outputs": [],
   "source": [
    "hit_list = ['double', 'single', 'home_run', 'triple']\n",
    "data2 = pd.DataFrame()\n",
    "for i in data['pitcher_apperance_index'].unique():\n",
    "    \n",
    "    #selecing single game\n",
    "    apperance = data[data['pitcher_apperance_index'] == i] \n",
    "    apperance = apperance.sort_values(['at_bat_number','pitch_number']) #sorting at-bats and pitches\n",
    "    \n",
    "    #pitch count\n",
    "    apperance['pitch_count_game'] = np.arange(len(apperance)) \n",
    "    \n",
    "    #Number of walks\n",
    "    apperance['number_of_walks'] = (apperance['events'] == 'walk').cumsum().shift(1).fillna(0)\n",
    "    \n",
    "    #Number of hits\n",
    "    apperance['number_of_hits'] = apperance['events'].isin(hit_list).cumsum().shift(1).fillna(0)\n",
    "    \n",
    "    data2 = data2.append(apperance)"
   ]
  },
  {
   "cell_type": "code",
   "execution_count": 8,
   "metadata": {},
   "outputs": [],
   "source": [
    "data3 = pd.DataFrame()\n",
    "for i in data2['atbat_id'].unique():\n",
    "    atbat = data2[data2['atbat_id'] == i]\n",
    "    atbat = atbat.sort_values('pitch_number')\n",
    "\n",
    "    \n",
    "    atbat['last_pitch'] = atbat['pitch_type'].shift(1).fillna('NewAB')\n",
    "\n",
    "    atbat[['last_plate_x', 'last_plate_z']] = atbat[['plate_x', 'plate_z']].shift(1)\n",
    "    atbat[['last_2_plate_x', 'last_2_plate_z']] = atbat[['plate_x', 'plate_z']].shift(1).rolling(2).mean()\n",
    "    \n",
    "    atbat['last_pitch_speed'] = atbat['effective_speed'].shift(1)\n",
    "    atbat['last_2_pitch_speed'] = atbat['effective_speed'].shift(1).rolling(2).mean()\n",
    "    \n",
    "    data3 = data3.append(atbat)    "
   ]
  },
  {
   "cell_type": "code",
   "execution_count": null,
   "metadata": {},
   "outputs": [],
   "source": [
    "conditions = [\n",
    "    (data3['on_1b'] == True) & (data3['on_2b'] == True) & (data3['on_3b'] == True),\n",
    "    (data3['on_2b'] == True) | (data3['on_3b'] == True),\n",
    "    (data3['on_1b'] == True)\n",
    "]\n",
    "\n",
    "status = ['BL', 'RISP', '1B']\n",
    "\n",
    "data3['Runners_On'] = np.select(conditions, status, default='BasesEmpty')"
   ]
  },
  {
   "cell_type": "code",
   "execution_count": 10,
   "metadata": {},
   "outputs": [],
   "source": [
    "data3['Fav_Pitcher_Matchup'] = data3['p_throws'] == data3['stand']"
   ]
  },
  {
   "cell_type": "code",
   "execution_count": 14,
   "metadata": {},
   "outputs": [],
   "source": [
    "toOneHot = np.array(data3[['Runners_On', 'last_pitch']])\n",
    "onehotencoder = OneHotEncoder(sparse=False) \n",
    "oneHotData = onehotencoder.fit_transform(toOneHot)\n",
    "oneHotData = pd.DataFrame(oneHotData, columns=onehotencoder.get_feature_names(['Runners_On', 'last_pitch']))\n",
    "data3 = data3.reset_index(drop=True)\n",
    "data3 = pd.concat([data3, oneHotData], axis=1)"
   ]
  },
  {
   "cell_type": "code",
   "execution_count": 98,
   "metadata": {},
   "outputs": [],
   "source": [
    "data3['pitch_type'].fillna('FF', inplace = True)"
   ]
  },
  {
   "cell_type": "code",
   "execution_count": 99,
   "metadata": {},
   "outputs": [],
   "source": [
    "# Label encoding Pitch Type so can be fed into models\n",
    "labelencoder = LabelEncoder()\n",
    "PitchTypeEncoded = labelencoder.fit_transform(data3['pitch_type'])\n",
    "\n",
    "data3['pitch_type_le'] = PitchTypeEncoded"
   ]
  },
  {
   "cell_type": "markdown",
   "metadata": {},
   "source": [
    "### Testing on different pitchers"
   ]
  },
  {
   "cell_type": "code",
   "execution_count": 528,
   "metadata": {},
   "outputs": [
    {
     "data": {
      "text/plain": [
       "FF    3951\n",
       "CH    1153\n",
       "SL    1095\n",
       "KC     929\n",
       "FT     293\n",
       "FC     248\n",
       "IN       5\n",
       "PO       1\n",
       "Name: pitch_type, dtype: int64"
      ]
     },
     "execution_count": 528,
     "metadata": {},
     "output_type": "execute_result"
    }
   ],
   "source": [
    "selected_pitcher = randomPitchers[1]\n",
    "single_pitcher = data3[data3['pitcher'] == selected_pitcher]\n",
    "single_pitcher.pitch_type.value_counts()"
   ]
  },
  {
   "cell_type": "code",
   "execution_count": 529,
   "metadata": {},
   "outputs": [],
   "source": [
    "pitch_columns = lambda a : \"last_pitch_{}\".format(a)\n",
    "\n",
    "last_pitch_columns = pd.Series(single_pitcher['pitch_type'].unique()).apply(pitch_columns)\n",
    "last_pitch_columns = list(last_pitch_columns)"
   ]
  },
  {
   "cell_type": "code",
   "execution_count": 530,
   "metadata": {},
   "outputs": [],
   "source": [
    "StandardPredVars = ['strikes', 'balls','pitch_count_game','Runners_On_RISP', 'Fav_Pitcher_Matchup']\n",
    "PredVars = StandardPredVars + last_pitch_columns\n",
    "#PredVars.remove('last_pitch_nan')"
   ]
  },
  {
   "cell_type": "code",
   "execution_count": 531,
   "metadata": {},
   "outputs": [
    {
     "name": "stderr",
     "output_type": "stream",
     "text": [
      "C:\\Users\\George\\Anaconda3\\lib\\site-packages\\pandas\\core\\frame.py:3697: SettingWithCopyWarning: \n",
      "A value is trying to be set on a copy of a slice from a DataFrame\n",
      "\n",
      "See the caveats in the documentation: http://pandas.pydata.org/pandas-docs/stable/indexing.html#indexing-view-versus-copy\n",
      "  errors=errors)\n"
     ]
    }
   ],
   "source": [
    "single_pitcher.drop(single_pitcher[single_pitcher['pitch_type'].isin(['PO' ,'IN'])].index , inplace=True)"
   ]
  },
  {
   "cell_type": "code",
   "execution_count": 532,
   "metadata": {},
   "outputs": [],
   "source": [
    "X = single_pitcher[PredVars]\n",
    "y = single_pitcher['pitch_type_le'] \n",
    "\n",
    "X_train, X_test, y_train, y_test = train_test_split(X, y, test_size=0.25, random_state=23)"
   ]
  },
  {
   "cell_type": "code",
   "execution_count": 541,
   "metadata": {},
   "outputs": [
    {
     "name": "stdout",
     "output_type": "stream",
     "text": [
      "Accuracy is 49.4%\n"
     ]
    }
   ],
   "source": [
    "dt_clf = DecisionTreeClassifier(min_samples_split=2,\n",
    "                                max_depth=4,\n",
    "                                max_features=5,\n",
    "                                random_state=23)\n",
    "dt_clf.fit(X_train, y_train)\n",
    "preds = dt_clf.predict(X_test)\n",
    "acc = (preds == y_test).mean()\n",
    "print('Accuracy is {}%'.format(round(acc*100,1)))"
   ]
  },
  {
   "cell_type": "code",
   "execution_count": 542,
   "metadata": {},
   "outputs": [
    {
     "name": "stdout",
     "output_type": "stream",
     "text": [
      "                   pre       rec       spe        f1       geo       iba       sup\n",
      "\n",
      "          0       0.00      0.00      1.00      0.00      0.00      0.00       296\n",
      "          2       0.00      0.00      1.00      0.00      0.00      0.00        75\n",
      "          3       0.49      1.00      0.01      0.66      0.12      0.02       943\n",
      "          4       0.00      0.00      1.00      0.00      0.00      0.00        73\n",
      "          6       0.00      0.00      1.00      0.00      0.00      0.00       254\n",
      "          9       0.44      0.03      0.99      0.05      0.16      0.02       277\n",
      "\n",
      "avg / total       0.31      0.49      0.51      0.33      0.08      0.01      1918\n",
      "\n"
     ]
    },
    {
     "name": "stderr",
     "output_type": "stream",
     "text": [
      "C:\\Users\\George\\Anaconda3\\lib\\site-packages\\sklearn\\metrics\\classification.py:1143: UndefinedMetricWarning: Precision and F-score are ill-defined and being set to 0.0 in labels with no predicted samples.\n",
      "  'precision', 'predicted', average, warn_for)\n"
     ]
    }
   ],
   "source": [
    "print(classification_report_imbalanced(y_test, preds))"
   ]
  },
  {
   "cell_type": "markdown",
   "metadata": {},
   "source": [
    "### Trying out Imbalance Learn package"
   ]
  },
  {
   "cell_type": "code",
   "execution_count": 543,
   "metadata": {},
   "outputs": [
    {
     "name": "stdout",
     "output_type": "stream",
     "text": [
      "Training target statistics: Counter({3: 3008, 0: 857, 9: 818, 6: 675, 4: 220, 2: 173})\n",
      "Testing target statistics: Counter({3: 943, 0: 296, 9: 277, 6: 254, 2: 75, 4: 73})\n"
     ]
    }
   ],
   "source": [
    "print('Training target statistics: {}'.format(Counter(y_train)))\n",
    "print('Testing target statistics: {}'.format(Counter(y_test)))"
   ]
  },
  {
   "cell_type": "markdown",
   "metadata": {},
   "source": [
    "### Stock SVC"
   ]
  },
  {
   "cell_type": "code",
   "execution_count": 546,
   "metadata": {},
   "outputs": [
    {
     "name": "stderr",
     "output_type": "stream",
     "text": [
      "C:\\Users\\George\\Anaconda3\\lib\\site-packages\\sklearn\\svm\\base.py:196: FutureWarning: The default value of gamma will change from 'auto' to 'scale' in version 0.22 to account better for unscaled features. Set gamma explicitly to 'auto' or 'scale' to avoid this warning.\n",
      "  \"avoid this warning.\", FutureWarning)\n"
     ]
    },
    {
     "name": "stdout",
     "output_type": "stream",
     "text": [
      "                   pre       rec       spe        f1       geo       iba       sup\n",
      "\n",
      "          0       0.00      0.00      1.00      0.00      0.00      0.00       296\n",
      "          2       0.00      0.00      1.00      0.00      0.00      0.00        75\n",
      "          3       0.49      1.00      0.00      0.66      0.00      0.00       943\n",
      "          4       0.00      0.00      1.00      0.00      0.00      0.00        73\n",
      "          6       0.00      0.00      1.00      0.00      0.00      0.00       254\n",
      "          9       0.00      0.00      1.00      0.00      0.00      0.00       277\n",
      "\n",
      "avg / total       0.24      0.49      0.51      0.32      0.00      0.00      1918\n",
      "\n"
     ]
    },
    {
     "name": "stderr",
     "output_type": "stream",
     "text": [
      "C:\\Users\\George\\Anaconda3\\lib\\site-packages\\sklearn\\metrics\\classification.py:1143: UndefinedMetricWarning: Precision and F-score are ill-defined and being set to 0.0 in labels with no predicted samples.\n",
      "  'precision', 'predicted', average, warn_for)\n"
     ]
    }
   ],
   "source": [
    "pipeline = make_pipeline(SVC(random_state=23))\n",
    "pipeline.fit(X_train, y_train)\n",
    "print(classification_report_imbalanced(y_test, pipeline.predict(X_test)))"
   ]
  },
  {
   "cell_type": "markdown",
   "metadata": {},
   "source": [
    "### Random Oversampled SVC "
   ]
  },
  {
   "cell_type": "code",
   "execution_count": 547,
   "metadata": {},
   "outputs": [
    {
     "name": "stderr",
     "output_type": "stream",
     "text": [
      "C:\\Users\\George\\Anaconda3\\lib\\site-packages\\sklearn\\svm\\base.py:196: FutureWarning: The default value of gamma will change from 'auto' to 'scale' in version 0.22 to account better for unscaled features. Set gamma explicitly to 'auto' or 'scale' to avoid this warning.\n",
      "  \"avoid this warning.\", FutureWarning)\n"
     ]
    },
    {
     "name": "stdout",
     "output_type": "stream",
     "text": [
      "                   pre       rec       spe        f1       geo       iba       sup\n",
      "\n",
      "          0       0.21      0.32      0.78      0.25      0.50      0.24       296\n",
      "          2       0.04      0.17      0.84      0.07      0.38      0.14        75\n",
      "          3       0.54      0.14      0.89      0.22      0.35      0.11       943\n",
      "          4       0.10      0.29      0.89      0.15      0.51      0.24        73\n",
      "          6       0.22      0.38      0.80      0.28      0.55      0.29       254\n",
      "          9       0.16      0.16      0.85      0.16      0.37      0.13       277\n",
      "\n",
      "avg / total       0.36      0.21      0.85      0.21      0.41      0.16      1918\n",
      "\n"
     ]
    }
   ],
   "source": [
    "pipe = make_pipeline(RandomOverSampler(random_state=23), SVC())\n",
    "pipe.fit(X_train, y_train)\n",
    "print(classification_report_imbalanced(y_test, pipe.predict(X_test)))"
   ]
  },
  {
   "cell_type": "markdown",
   "metadata": {},
   "source": [
    "### SVM SMOTE Oversampling"
   ]
  },
  {
   "cell_type": "code",
   "execution_count": 548,
   "metadata": {},
   "outputs": [],
   "source": [
    "from imblearn.over_sampling import SVMSMOTE"
   ]
  },
  {
   "cell_type": "code",
   "execution_count": 549,
   "metadata": {},
   "outputs": [],
   "source": [
    "sm = SVMSMOTE(random_state = 2) \n",
    "X_train_res, y_train_res = sm.fit_sample(np.array(X_train), y_train.ravel()) "
   ]
  },
  {
   "cell_type": "code",
   "execution_count": 550,
   "metadata": {},
   "outputs": [
    {
     "name": "stderr",
     "output_type": "stream",
     "text": [
      "C:\\Users\\George\\Anaconda3\\lib\\site-packages\\sklearn\\svm\\base.py:196: FutureWarning: The default value of gamma will change from 'auto' to 'scale' in version 0.22 to account better for unscaled features. Set gamma explicitly to 'auto' or 'scale' to avoid this warning.\n",
      "  \"avoid this warning.\", FutureWarning)\n"
     ]
    }
   ],
   "source": [
    "smote_clf = SVC(random_state=23)\n",
    "\n",
    "smote_clf.fit(X_train_res, y_train_res)\n",
    "preds = smote_clf.predict(X_test)"
   ]
  },
  {
   "cell_type": "code",
   "execution_count": 551,
   "metadata": {},
   "outputs": [
    {
     "name": "stdout",
     "output_type": "stream",
     "text": [
      "                   pre       rec       spe        f1       geo       iba       sup\n",
      "\n",
      "          0       0.20      0.24      0.82      0.22      0.45      0.19       296\n",
      "          2       0.06      0.08      0.94      0.07      0.27      0.07        75\n",
      "          3       0.51      0.37      0.65      0.43      0.49      0.23       943\n",
      "          4       0.10      0.22      0.93      0.14      0.45      0.19        73\n",
      "          6       0.18      0.29      0.80      0.22      0.48      0.22       254\n",
      "          9       0.17      0.13      0.90      0.15      0.34      0.11       277\n",
      "\n",
      "avg / total       0.34      0.29      0.76      0.30      0.45      0.20      1918\n",
      "\n"
     ]
    }
   ],
   "source": [
    "print(classification_report_imbalanced(y_test, preds))"
   ]
  }
 ],
 "metadata": {
  "kernelspec": {
   "display_name": "Python 3",
   "language": "python",
   "name": "python3"
  },
  "language_info": {
   "codemirror_mode": {
    "name": "ipython",
    "version": 3
   },
   "file_extension": ".py",
   "mimetype": "text/x-python",
   "name": "python",
   "nbconvert_exporter": "python",
   "pygments_lexer": "ipython3",
   "version": "3.6.5"
  }
 },
 "nbformat": 4,
 "nbformat_minor": 4
}
